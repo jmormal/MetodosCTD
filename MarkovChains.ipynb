{
 "cells": [
  {
   "cell_type": "markdown",
   "id": "c20d62700ce47505",
   "metadata": {},
   "source": [
    "# PRACTICAL Lesson  5 \n",
    "\n",
    "##MARKOV CHAINS\n",
    "\n",
    "\n",
    "## CONTENT\n",
    "\n",
    "5.1. INTRODUCTION\n",
    "\n",
    "5.2. PRACTICAL EXAMPLE. HOW A STOCK SHARE EVOLVES\n",
    "\n",
    "5.3. PROPOSED EXERCISE: WILL THE RICH BECOME RICHER AND THE POOR BECOME POORER?\n",
    "\n",
    "5.4. PROPOSED PROBLEM. SEPTEMBER 2002 EXAMINATION\n",
    "\n",
    "5.5. PROPOSED EXERCISES. REPAIRING RIVETING MACHINES\n"
   ]
  },
  {
   "cell_type": "code",
   "execution_count": 1,
   "id": "288545b84e1946a",
   "metadata": {
    "ExecuteTime": {
     "end_time": "2024-01-18T18:25:10.260456607Z",
     "start_time": "2024-01-18T18:25:02.173764916Z"
    },
    "pycharm": {
     "is_executing": true
    }
   },
   "outputs": [
    {
     "name": "stdout",
     "output_type": "stream",
     "text": [
      "Requirement already satisfied: networkx in /opt/conda/lib/python3.11/site-packages (3.1)\n",
      "Requirement already satisfied: matplotlib in /opt/conda/lib/python3.11/site-packages (3.7.2)\n",
      "Requirement already satisfied: contourpy>=1.0.1 in /opt/conda/lib/python3.11/site-packages (from matplotlib) (1.0.5)\n",
      "Requirement already satisfied: cycler>=0.10 in /opt/conda/lib/python3.11/site-packages (from matplotlib) (0.11.0)\n",
      "Requirement already satisfied: fonttools>=4.22.0 in /opt/conda/lib/python3.11/site-packages (from matplotlib) (4.25.0)\n",
      "Requirement already satisfied: kiwisolver>=1.0.1 in /opt/conda/lib/python3.11/site-packages (from matplotlib) (1.4.4)\n",
      "Requirement already satisfied: numpy>=1.20 in /opt/conda/lib/python3.11/site-packages (from matplotlib) (1.25.2)\n",
      "Requirement already satisfied: packaging>=20.0 in /opt/conda/lib/python3.11/site-packages (from matplotlib) (23.1)\n",
      "Requirement already satisfied: pillow>=6.2.0 in /opt/conda/lib/python3.11/site-packages (from matplotlib) (10.0.1)\n",
      "Requirement already satisfied: pyparsing<3.1,>=2.3.1 in /opt/conda/lib/python3.11/site-packages (from matplotlib) (3.0.9)\n",
      "Requirement already satisfied: python-dateutil>=2.7 in /opt/conda/lib/python3.11/site-packages (from matplotlib) (2.8.2)\n",
      "Requirement already satisfied: six>=1.5 in /opt/conda/lib/python3.11/site-packages (from python-dateutil>=2.7->matplotlib) (1.16.0)\n",
      "Requirement already satisfied: numpy in /opt/conda/lib/python3.11/site-packages (1.25.2)\n",
      "Requirement already satisfied: pandas in /opt/conda/lib/python3.11/site-packages (2.0.3)\n",
      "Requirement already satisfied: python-dateutil>=2.8.2 in /opt/conda/lib/python3.11/site-packages (from pandas) (2.8.2)\n",
      "Requirement already satisfied: pytz>=2020.1 in /opt/conda/lib/python3.11/site-packages (from pandas) (2023.3.post1)\n",
      "Requirement already satisfied: tzdata>=2022.1 in /opt/conda/lib/python3.11/site-packages (from pandas) (2023.3)\n",
      "Requirement already satisfied: numpy>=1.21.0 in /opt/conda/lib/python3.11/site-packages (from pandas) (1.25.2)\n",
      "Requirement already satisfied: six>=1.5 in /opt/conda/lib/python3.11/site-packages (from python-dateutil>=2.8.2->pandas) (1.16.0)\n",
      "Requirement already satisfied: ipywidgets in /opt/conda/lib/python3.11/site-packages (8.0.4)\n",
      "Requirement already satisfied: ipykernel>=4.5.1 in /opt/conda/lib/python3.11/site-packages (from ipywidgets) (6.25.0)\n",
      "Requirement already satisfied: ipython>=6.1.0 in /opt/conda/lib/python3.11/site-packages (from ipywidgets) (8.15.0)\n",
      "Requirement already satisfied: traitlets>=4.3.1 in /opt/conda/lib/python3.11/site-packages (from ipywidgets) (5.7.1)\n",
      "Requirement already satisfied: widgetsnbextension~=4.0 in /opt/conda/lib/python3.11/site-packages (from ipywidgets) (4.0.5)\n",
      "Requirement already satisfied: jupyterlab-widgets~=3.0 in /opt/conda/lib/python3.11/site-packages (from ipywidgets) (3.0.5)\n",
      "Requirement already satisfied: comm>=0.1.1 in /opt/conda/lib/python3.11/site-packages (from ipykernel>=4.5.1->ipywidgets) (0.1.2)\n",
      "Requirement already satisfied: debugpy>=1.6.5 in /opt/conda/lib/python3.11/site-packages (from ipykernel>=4.5.1->ipywidgets) (1.6.7)\n",
      "Requirement already satisfied: jupyter-client>=6.1.12 in /opt/conda/lib/python3.11/site-packages (from ipykernel>=4.5.1->ipywidgets) (7.4.9)\n",
      "Requirement already satisfied: jupyter-core!=5.0.*,>=4.12 in /opt/conda/lib/python3.11/site-packages (from ipykernel>=4.5.1->ipywidgets) (5.3.0)\n",
      "Requirement already satisfied: matplotlib-inline>=0.1 in /opt/conda/lib/python3.11/site-packages (from ipykernel>=4.5.1->ipywidgets) (0.1.6)\n",
      "Requirement already satisfied: nest-asyncio in /opt/conda/lib/python3.11/site-packages (from ipykernel>=4.5.1->ipywidgets) (1.5.6)\n",
      "Requirement already satisfied: packaging in /opt/conda/lib/python3.11/site-packages (from ipykernel>=4.5.1->ipywidgets) (23.1)\n",
      "Requirement already satisfied: psutil in /opt/conda/lib/python3.11/site-packages (from ipykernel>=4.5.1->ipywidgets) (5.9.0)\n",
      "Requirement already satisfied: pyzmq>=20 in /opt/conda/lib/python3.11/site-packages (from ipykernel>=4.5.1->ipywidgets) (25.1.2)\n",
      "Requirement already satisfied: tornado>=6.1 in /opt/conda/lib/python3.11/site-packages (from ipykernel>=4.5.1->ipywidgets) (6.3.3)\n",
      "Requirement already satisfied: backcall in /opt/conda/lib/python3.11/site-packages (from ipython>=6.1.0->ipywidgets) (0.2.0)\n",
      "Requirement already satisfied: decorator in /opt/conda/lib/python3.11/site-packages (from ipython>=6.1.0->ipywidgets) (5.1.1)\n",
      "Requirement already satisfied: jedi>=0.16 in /opt/conda/lib/python3.11/site-packages (from ipython>=6.1.0->ipywidgets) (0.18.1)\n",
      "Requirement already satisfied: pickleshare in /opt/conda/lib/python3.11/site-packages (from ipython>=6.1.0->ipywidgets) (0.7.5)\n",
      "Requirement already satisfied: prompt-toolkit!=3.0.37,<3.1.0,>=3.0.30 in /opt/conda/lib/python3.11/site-packages (from ipython>=6.1.0->ipywidgets) (3.0.36)\n",
      "Requirement already satisfied: pygments>=2.4.0 in /opt/conda/lib/python3.11/site-packages (from ipython>=6.1.0->ipywidgets) (2.15.1)\n",
      "Requirement already satisfied: stack-data in /opt/conda/lib/python3.11/site-packages (from ipython>=6.1.0->ipywidgets) (0.2.0)\n",
      "Requirement already satisfied: pexpect>4.3 in /opt/conda/lib/python3.11/site-packages (from ipython>=6.1.0->ipywidgets) (4.8.0)\n",
      "Requirement already satisfied: parso<0.9.0,>=0.8.0 in /opt/conda/lib/python3.11/site-packages (from jedi>=0.16->ipython>=6.1.0->ipywidgets) (0.8.3)\n",
      "Requirement already satisfied: entrypoints in /opt/conda/lib/python3.11/site-packages (from jupyter-client>=6.1.12->ipykernel>=4.5.1->ipywidgets) (0.4)\n",
      "Requirement already satisfied: python-dateutil>=2.8.2 in /opt/conda/lib/python3.11/site-packages (from jupyter-client>=6.1.12->ipykernel>=4.5.1->ipywidgets) (2.8.2)\n",
      "Requirement already satisfied: platformdirs>=2.5 in /opt/conda/lib/python3.11/site-packages (from jupyter-core!=5.0.*,>=4.12->ipykernel>=4.5.1->ipywidgets) (3.10.0)\n",
      "Requirement already satisfied: ptyprocess>=0.5 in /opt/conda/lib/python3.11/site-packages (from pexpect>4.3->ipython>=6.1.0->ipywidgets) (0.7.0)\n",
      "Requirement already satisfied: wcwidth in /opt/conda/lib/python3.11/site-packages (from prompt-toolkit!=3.0.37,<3.1.0,>=3.0.30->ipython>=6.1.0->ipywidgets) (0.2.5)\n",
      "Requirement already satisfied: executing in /opt/conda/lib/python3.11/site-packages (from stack-data->ipython>=6.1.0->ipywidgets) (0.8.3)\n",
      "Requirement already satisfied: asttokens in /opt/conda/lib/python3.11/site-packages (from stack-data->ipython>=6.1.0->ipywidgets) (2.0.5)\n",
      "Requirement already satisfied: pure-eval in /opt/conda/lib/python3.11/site-packages (from stack-data->ipython>=6.1.0->ipywidgets) (0.2.2)\n",
      "Requirement already satisfied: six>=1.5 in /opt/conda/lib/python3.11/site-packages (from python-dateutil>=2.8.2->jupyter-client>=6.1.12->ipykernel>=4.5.1->ipywidgets) (1.16.0)\n"
     ]
    }
   ],
   "source": [
    "!pip install networkx\n",
    "!pip install matplotlib\n",
    "!pip install numpy\n",
    "!pip install pandas\n",
    "!pip install ipywidgets"
   ]
  },
  {
   "cell_type": "markdown",
   "id": "f48e4ad5ee167bde",
   "metadata": {},
   "source": [
    "\n",
    "### 5.1 INTRODUCTION\n",
    "\n",
    "In decision-making problems, the need to make decisions based on phenomena with associated uncertainty frequently arises.\n",
    "\n",
    "A stochastic process is defined as a series of aleatory variables $\\{\\mathrm{Xt}\\}$, where index $t$ takes the values of a given set $T$. For example, process $X 1, X 2, X 3, \\ldots$ can represent a change made by customers in a detergent brand name.\n",
    "\n",
    "Another simple case is that in which knowledge about the state of the system in consecutive instants prior to $t$ provides certain information on the state of the system, although this information is totally contained in the last instant. A process with these characteristics is called a Markov Process. For instance, if the change in a detergent brand name made by customers in one month depends only on their choice in the previous month.\n",
    "\n",
    "A stochastic process $\\{\\mathrm{Xt}\\}$ is a Markov Chain if it has the following characteristics:\n",
    "\n",
    "1. A finite number of states.\n",
    "2. The Markovian property. This property is the equivalent to establishing that the conditional probability of any future \"event\", given any past \"event\" and the present state, is independent of the past event and that it depends only on the current process state.\n",
    "3. Stationary transition probabilities. Having stationary transition probabilities means that the transition probabilities do not change over time.\n",
    "4. A series of initial probabilities.\n",
    "\n",
    "If the transition probabilities (in the probabilities example of customers changing from one detergent brand name (state) to another) continue to be constant with time, the Markov Process is called a Markov Chain.\n",
    "\n",
    "An example of a Markov Chain: let's consider the following model for the a share value. At the end of a given day, the price is recorded. If the share goes up, the probability of it going up tomorrow is 0.7 . If the share goes down, the probability of it going up tomorrow is only 0.5 . This is a Markov Chain where state $0(\\mathrm{e} 0)$ represents the share price going up and state 1 (e1) represents it going down. The transition Matrix is given by:\n",
    "\n",
    "| States | E0=S | E1=B |\n",
    "| :---: | :---: | :---: |\n",
    "| E0=S | 0.70 | 0.30 |\n",
    "| E1=B | 0.50 | 0.50 |"
   ]
  },
  {
   "cell_type": "markdown",
   "id": "f94b5406",
   "metadata": {},
   "source": []
  },
  {
   "cell_type": "code",
   "execution_count": 4,
   "metadata": {
    "pycharm": {
     "is_executing": true
    }
   },
   "outputs": [
    {
     "data": {
      "application/vnd.jupyter.widget-view+json": {
       "model_id": "7e53ecf96a224e5ba0255d3ba358562a",
       "version_major": 2,
       "version_minor": 0
      },
      "text/plain": [
       "VBox(children=(Box(children=(Button(description='Classify the Markov Chain', layout=Layout(align_content='cent…"
      ]
     },
     "metadata": {},
     "output_type": "display_data"
    }
   ],
   "source": [
    "execfile(\"vis.py\")\n"
   ]
  },
  {
   "cell_type": "code",
   "execution_count": 5,
   "metadata": {},
   "outputs": [
    {
     "data": {
      "text/plain": [
       "0.08000000000000002"
      ]
     },
     "execution_count": 5,
     "metadata": {},
     "output_type": "execute_result"
    }
   ],
   "source": [
    "m = [[ 0.9, 0.1, 0.0, 0.0],\n",
    "     [ 0.0, 0.0, 0.5 ,0.5],\n",
    "     [0.6, 0.0, 0.0 ,0.4],\n",
    "     [0.0, 0.0, 0.3, 0.7]]\n",
    "np.linalg.matrix_power(m, 2)[0,1]-np.linalg.matrix_power(m, 1)[0,1]*0.1"
   ]
  },
  {
   "cell_type": "code",
   "execution_count": 7,
   "metadata": {},
   "outputs": [
    {
     "data": {
      "text/plain": [
       "array([[0.81, 0.09, 0.05, 0.05],\n",
       "       [0.3 , 0.  , 0.15, 0.55],\n",
       "       [0.54, 0.06, 0.12, 0.28],\n",
       "       [0.18, 0.  , 0.21, 0.61]])"
      ]
     },
     "execution_count": 7,
     "metadata": {},
     "output_type": "execute_result"
    }
   ],
   "source": [
    "np.linalg.matrix_power(m, 2)"
   ]
  },
  {
   "cell_type": "code",
   "execution_count": 14,
   "metadata": {},
   "outputs": [
    {
     "ename": "TraitError",
     "evalue": "The 'value' trait of an Image instance expected a memory view object, not the str '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'.",
     "output_type": "error",
     "traceback": [
      "\u001B[0;31m---------------------------------------------------------------------------\u001B[0m",
      "\u001B[0;31mTypeError\u001B[0m                                 Traceback (most recent call last)",
      "File \u001B[0;32m/opt/conda/lib/python3.11/site-packages/ipywidgets/widgets/trait_types.py:246\u001B[0m, in \u001B[0;36mCByteMemoryView.validate\u001B[0;34m(self, obj, value)\u001B[0m\n\u001B[1;32m    245\u001B[0m \u001B[39mtry\u001B[39;00m:\n\u001B[0;32m--> 246\u001B[0m     mv \u001B[39m=\u001B[39m \u001B[39mmemoryview\u001B[39m(value)\n\u001B[1;32m    247\u001B[0m     \u001B[39mif\u001B[39;00m mv\u001B[39m.\u001B[39mformat \u001B[39m!=\u001B[39m \u001B[39m'\u001B[39m\u001B[39mB\u001B[39m\u001B[39m'\u001B[39m:\n",
      "\u001B[0;31mTypeError\u001B[0m: memoryview: a bytes-like object is required, not 'str'",
      "\nDuring handling of the above exception, another exception occurred:\n",
      "\u001B[0;31mTraitError\u001B[0m                                Traceback (most recent call last)",
      "\u001B[1;32m/workspaces/MetodosCTD/MarkovChains.ipynb Cell 6\u001B[0m line \u001B[0;36m7\n\u001B[1;32m     <a href='vscode-notebook-cell://dev-container%2B2f686f6d652f6a6a2f446f63756d656e746f732f4d65746f646f736375616e742f4d65746f646f73435444/workspaces/MetodosCTD/MarkovChains.ipynb#X22sdnNjb2RlLXJlbW90ZQ%3D%3D?line=71'>72</a>\u001B[0m     \u001B[39mreturn\u001B[39;00m overlay\n\u001B[1;32m     <a href='vscode-notebook-cell://dev-container%2B2f686f6d652f6a6a2f446f63756d656e746f732f4d65746f646f736375616e742f4d65746f646f73435444/workspaces/MetodosCTD/MarkovChains.ipynb#X22sdnNjb2RlLXJlbW90ZQ%3D%3D?line=73'>74</a>\u001B[0m \u001B[39m# Create the LaTeX button widget\u001B[39;00m\n\u001B[0;32m---> <a href='vscode-notebook-cell://dev-container%2B2f686f6d652f6a6a2f446f63756d656e746f732f4d65746f646f736375616e742f4d65746f646f73435444/workspaces/MetodosCTD/MarkovChains.ipynb#X22sdnNjb2RlLXJlbW90ZQ%3D%3D?line=74'>75</a>\u001B[0m latex_button \u001B[39m=\u001B[39m create_latex_button(img_base64, \u001B[39m200\u001B[39m, \u001B[39m100\u001B[39m)\n\u001B[1;32m     <a href='vscode-notebook-cell://dev-container%2B2f686f6d652f6a6a2f446f63756d656e746f732f4d65746f646f736375616e742f4d65746f646f73435444/workspaces/MetodosCTD/MarkovChains.ipynb#X22sdnNjb2RlLXJlbW90ZQ%3D%3D?line=75'>76</a>\u001B[0m display(latex_button)\n",
      "\u001B[1;32m/workspaces/MetodosCTD/MarkovChains.ipynb Cell 6\u001B[0m line \u001B[0;36m4\n\u001B[1;32m     <a href='vscode-notebook-cell://dev-container%2B2f686f6d652f6a6a2f446f63756d656e746f732f4d65746f646f736375616e742f4d65746f646f73435444/workspaces/MetodosCTD/MarkovChains.ipynb#X22sdnNjb2RlLXJlbW90ZQ%3D%3D?line=41'>42</a>\u001B[0m \u001B[39mdef\u001B[39;00m \u001B[39mcreate_latex_button\u001B[39m(img_base64, button_width, button_height):\n\u001B[1;32m     <a href='vscode-notebook-cell://dev-container%2B2f686f6d652f6a6a2f446f63756d656e746f732f4d65746f646f736375616e742f4d65746f646f73435444/workspaces/MetodosCTD/MarkovChains.ipynb#X22sdnNjb2RlLXJlbW90ZQ%3D%3D?line=42'>43</a>\u001B[0m     \u001B[39m# Create an Image widget to display the rendered LaTeX\u001B[39;00m\n\u001B[0;32m---> <a href='vscode-notebook-cell://dev-container%2B2f686f6d652f6a6a2f446f63756d656e746f732f4d65746f646f736375616e742f4d65746f646f73435444/workspaces/MetodosCTD/MarkovChains.ipynb#X22sdnNjb2RlLXJlbW90ZQ%3D%3D?line=43'>44</a>\u001B[0m     image_widget \u001B[39m=\u001B[39m widgets\u001B[39m.\u001B[39mImage(\n\u001B[1;32m     <a href='vscode-notebook-cell://dev-container%2B2f686f6d652f6a6a2f446f63756d656e746f732f4d65746f646f736375616e742f4d65746f646f73435444/workspaces/MetodosCTD/MarkovChains.ipynb#X22sdnNjb2RlLXJlbW90ZQ%3D%3D?line=44'>45</a>\u001B[0m         value\u001B[39m=\u001B[39mimg_base64,\n\u001B[1;32m     <a href='vscode-notebook-cell://dev-container%2B2f686f6d652f6a6a2f446f63756d656e746f732f4d65746f646f736375616e742f4d65746f646f73435444/workspaces/MetodosCTD/MarkovChains.ipynb#X22sdnNjb2RlLXJlbW90ZQ%3D%3D?line=45'>46</a>\u001B[0m         \u001B[39mformat\u001B[39m\u001B[39m=\u001B[39m\u001B[39m'\u001B[39m\u001B[39mpng\u001B[39m\u001B[39m'\u001B[39m,\n\u001B[1;32m     <a href='vscode-notebook-cell://dev-container%2B2f686f6d652f6a6a2f446f63756d656e746f732f4d65746f646f736375616e742f4d65746f646f73435444/workspaces/MetodosCTD/MarkovChains.ipynb#X22sdnNjb2RlLXJlbW90ZQ%3D%3D?line=46'>47</a>\u001B[0m         width\u001B[39m=\u001B[39mbutton_width,\n\u001B[1;32m     <a href='vscode-notebook-cell://dev-container%2B2f686f6d652f6a6a2f446f63756d656e746f732f4d65746f646f736375616e742f4d65746f646f73435444/workspaces/MetodosCTD/MarkovChains.ipynb#X22sdnNjb2RlLXJlbW90ZQ%3D%3D?line=47'>48</a>\u001B[0m         height\u001B[39m=\u001B[39mbutton_height\n\u001B[1;32m     <a href='vscode-notebook-cell://dev-container%2B2f686f6d652f6a6a2f446f63756d656e746f732f4d65746f646f736375616e742f4d65746f646f73435444/workspaces/MetodosCTD/MarkovChains.ipynb#X22sdnNjb2RlLXJlbW90ZQ%3D%3D?line=48'>49</a>\u001B[0m     )\n\u001B[1;32m     <a href='vscode-notebook-cell://dev-container%2B2f686f6d652f6a6a2f446f63756d656e746f732f4d65746f646f736375616e742f4d65746f646f73435444/workspaces/MetodosCTD/MarkovChains.ipynb#X22sdnNjb2RlLXJlbW90ZQ%3D%3D?line=50'>51</a>\u001B[0m     \u001B[39m# Create a transparent Button widget\u001B[39;00m\n\u001B[1;32m     <a href='vscode-notebook-cell://dev-container%2B2f686f6d652f6a6a2f446f63756d656e746f732f4d65746f646f736375616e742f4d65746f646f73435444/workspaces/MetodosCTD/MarkovChains.ipynb#X22sdnNjb2RlLXJlbW90ZQ%3D%3D?line=51'>52</a>\u001B[0m     button \u001B[39m=\u001B[39m widgets\u001B[39m.\u001B[39mButton(\n\u001B[1;32m     <a href='vscode-notebook-cell://dev-container%2B2f686f6d652f6a6a2f446f63756d656e746f732f4d65746f646f736375616e742f4d65746f646f73435444/workspaces/MetodosCTD/MarkovChains.ipynb#X22sdnNjb2RlLXJlbW90ZQ%3D%3D?line=52'>53</a>\u001B[0m         layout\u001B[39m=\u001B[39mwidgets\u001B[39m.\u001B[39mLayout(width\u001B[39m=\u001B[39m\u001B[39m'\u001B[39m\u001B[39m100\u001B[39m\u001B[39m%\u001B[39m\u001B[39m'\u001B[39m, height\u001B[39m=\u001B[39m\u001B[39m'\u001B[39m\u001B[39m100\u001B[39m\u001B[39m%\u001B[39m\u001B[39m'\u001B[39m, opacity\u001B[39m=\u001B[39m\u001B[39m0\u001B[39m)\n\u001B[1;32m     <a href='vscode-notebook-cell://dev-container%2B2f686f6d652f6a6a2f446f63756d656e746f732f4d65746f646f736375616e742f4d65746f646f73435444/workspaces/MetodosCTD/MarkovChains.ipynb#X22sdnNjb2RlLXJlbW90ZQ%3D%3D?line=53'>54</a>\u001B[0m     )\n",
      "File \u001B[0;32m/opt/conda/lib/python3.11/site-packages/ipywidgets/widgets/widget_media.py:157\u001B[0m, in \u001B[0;36mImage.__init__\u001B[0;34m(self, *args, **kwargs)\u001B[0m\n\u001B[1;32m    156\u001B[0m \u001B[39mdef\u001B[39;00m \u001B[39m__init__\u001B[39m(\u001B[39mself\u001B[39m, \u001B[39m*\u001B[39margs, \u001B[39m*\u001B[39m\u001B[39m*\u001B[39mkwargs):\n\u001B[0;32m--> 157\u001B[0m     \u001B[39msuper\u001B[39m()\u001B[39m.\u001B[39m\u001B[39m__init__\u001B[39m(\u001B[39m*\u001B[39margs, \u001B[39m*\u001B[39m\u001B[39m*\u001B[39mkwargs)\n",
      "File \u001B[0;32m/opt/conda/lib/python3.11/site-packages/ipywidgets/widgets/widget.py:502\u001B[0m, in \u001B[0;36mWidget.__init__\u001B[0;34m(self, **kwargs)\u001B[0m\n\u001B[1;32m    500\u001B[0m \u001B[39m\u001B[39m\u001B[39m\"\"\"Public constructor\"\"\"\u001B[39;00m\n\u001B[1;32m    501\u001B[0m \u001B[39mself\u001B[39m\u001B[39m.\u001B[39m_model_id \u001B[39m=\u001B[39m kwargs\u001B[39m.\u001B[39mpop(\u001B[39m'\u001B[39m\u001B[39mmodel_id\u001B[39m\u001B[39m'\u001B[39m, \u001B[39mNone\u001B[39;00m)\n\u001B[0;32m--> 502\u001B[0m \u001B[39msuper\u001B[39m()\u001B[39m.\u001B[39m\u001B[39m__init__\u001B[39m(\u001B[39m*\u001B[39m\u001B[39m*\u001B[39mkwargs)\n\u001B[1;32m    504\u001B[0m Widget\u001B[39m.\u001B[39m_call_widget_constructed(\u001B[39mself\u001B[39m)\n\u001B[1;32m    505\u001B[0m \u001B[39mself\u001B[39m\u001B[39m.\u001B[39mopen()\n",
      "File \u001B[0;32m/opt/conda/lib/python3.11/site-packages/traitlets/traitlets.py:1343\u001B[0m, in \u001B[0;36mHasTraits.__init__\u001B[0;34m(self, *args, **kwargs)\u001B[0m\n\u001B[1;32m   1341\u001B[0m \u001B[39mfor\u001B[39;00m key, value \u001B[39min\u001B[39;00m kwargs\u001B[39m.\u001B[39mitems():\n\u001B[1;32m   1342\u001B[0m     \u001B[39mif\u001B[39;00m \u001B[39mself\u001B[39m\u001B[39m.\u001B[39mhas_trait(key):\n\u001B[0;32m-> 1343\u001B[0m         \u001B[39msetattr\u001B[39m(\u001B[39mself\u001B[39m, key, value)\n\u001B[1;32m   1344\u001B[0m         changes[key] \u001B[39m=\u001B[39m Bunch(\n\u001B[1;32m   1345\u001B[0m             name\u001B[39m=\u001B[39mkey,\n\u001B[1;32m   1346\u001B[0m             old\u001B[39m=\u001B[39m\u001B[39mNone\u001B[39;00m,\n\u001B[0;32m   (...)\u001B[0m\n\u001B[1;32m   1349\u001B[0m             \u001B[39mtype\u001B[39m\u001B[39m=\u001B[39m\u001B[39m\"\u001B[39m\u001B[39mchange\u001B[39m\u001B[39m\"\u001B[39m,\n\u001B[1;32m   1350\u001B[0m         )\n\u001B[1;32m   1351\u001B[0m     \u001B[39melse\u001B[39;00m:\n\u001B[1;32m   1352\u001B[0m         \u001B[39m# passthrough args that don't set traits to super\u001B[39;00m\n",
      "File \u001B[0;32m/opt/conda/lib/python3.11/site-packages/traitlets/traitlets.py:729\u001B[0m, in \u001B[0;36mTraitType.__set__\u001B[0;34m(self, obj, value)\u001B[0m\n\u001B[1;32m    727\u001B[0m     \u001B[39mraise\u001B[39;00m TraitError(\u001B[39m'\u001B[39m\u001B[39mThe \u001B[39m\u001B[39m\"\u001B[39m\u001B[39m%s\u001B[39;00m\u001B[39m\"\u001B[39m\u001B[39m trait is read-only.\u001B[39m\u001B[39m'\u001B[39m \u001B[39m%\u001B[39m \u001B[39mself\u001B[39m\u001B[39m.\u001B[39mname)\n\u001B[1;32m    728\u001B[0m \u001B[39melse\u001B[39;00m:\n\u001B[0;32m--> 729\u001B[0m     \u001B[39mself\u001B[39m\u001B[39m.\u001B[39mset(obj, value)\n",
      "File \u001B[0;32m/opt/conda/lib/python3.11/site-packages/traitlets/traitlets.py:703\u001B[0m, in \u001B[0;36mTraitType.set\u001B[0;34m(self, obj, value)\u001B[0m\n\u001B[1;32m    702\u001B[0m \u001B[39mdef\u001B[39;00m \u001B[39mset\u001B[39m(\u001B[39mself\u001B[39m, obj, value):\n\u001B[0;32m--> 703\u001B[0m     new_value \u001B[39m=\u001B[39m \u001B[39mself\u001B[39m\u001B[39m.\u001B[39m_validate(obj, value)\n\u001B[1;32m    704\u001B[0m     \u001B[39mtry\u001B[39;00m:\n\u001B[1;32m    705\u001B[0m         old_value \u001B[39m=\u001B[39m obj\u001B[39m.\u001B[39m_trait_values[\u001B[39mself\u001B[39m\u001B[39m.\u001B[39mname]\n",
      "File \u001B[0;32m/opt/conda/lib/python3.11/site-packages/traitlets/traitlets.py:735\u001B[0m, in \u001B[0;36mTraitType._validate\u001B[0;34m(self, obj, value)\u001B[0m\n\u001B[1;32m    733\u001B[0m     \u001B[39mreturn\u001B[39;00m value\n\u001B[1;32m    734\u001B[0m \u001B[39mif\u001B[39;00m \u001B[39mhasattr\u001B[39m(\u001B[39mself\u001B[39m, \u001B[39m\"\u001B[39m\u001B[39mvalidate\u001B[39m\u001B[39m\"\u001B[39m):\n\u001B[0;32m--> 735\u001B[0m     value \u001B[39m=\u001B[39m \u001B[39mself\u001B[39m\u001B[39m.\u001B[39mvalidate(obj, value)\n\u001B[1;32m    736\u001B[0m \u001B[39mif\u001B[39;00m obj\u001B[39m.\u001B[39m_cross_validation_lock \u001B[39mis\u001B[39;00m \u001B[39mFalse\u001B[39;00m:\n\u001B[1;32m    737\u001B[0m     value \u001B[39m=\u001B[39m \u001B[39mself\u001B[39m\u001B[39m.\u001B[39m_cross_validate(obj, value)\n",
      "File \u001B[0;32m/opt/conda/lib/python3.11/site-packages/ipywidgets/widgets/trait_types.py:251\u001B[0m, in \u001B[0;36mCByteMemoryView.validate\u001B[0;34m(self, obj, value)\u001B[0m\n\u001B[1;32m    249\u001B[0m     \u001B[39mreturn\u001B[39;00m mv\n\u001B[1;32m    250\u001B[0m \u001B[39mexcept\u001B[39;00m \u001B[39mException\u001B[39;00m:\n\u001B[0;32m--> 251\u001B[0m     \u001B[39mself\u001B[39m\u001B[39m.\u001B[39merror(obj, value)\n",
      "File \u001B[0;32m/opt/conda/lib/python3.11/site-packages/traitlets/traitlets.py:841\u001B[0m, in \u001B[0;36mTraitType.error\u001B[0;34m(self, obj, value, error, info)\u001B[0m\n\u001B[1;32m    835\u001B[0m \u001B[39melse\u001B[39;00m:\n\u001B[1;32m    836\u001B[0m     e \u001B[39m=\u001B[39m \u001B[39m\"\u001B[39m\u001B[39mThe \u001B[39m\u001B[39m'\u001B[39m\u001B[39m{}\u001B[39;00m\u001B[39m'\u001B[39m\u001B[39m trait expected \u001B[39m\u001B[39m{}\u001B[39;00m\u001B[39m, not \u001B[39m\u001B[39m{}\u001B[39;00m\u001B[39m.\u001B[39m\u001B[39m\"\u001B[39m\u001B[39m.\u001B[39mformat(\n\u001B[1;32m    837\u001B[0m         \u001B[39mself\u001B[39m\u001B[39m.\u001B[39mname,\n\u001B[1;32m    838\u001B[0m         \u001B[39mself\u001B[39m\u001B[39m.\u001B[39minfo(),\n\u001B[1;32m    839\u001B[0m         describe(\u001B[39m\"\u001B[39m\u001B[39mthe\u001B[39m\u001B[39m\"\u001B[39m, value),\n\u001B[1;32m    840\u001B[0m     )\n\u001B[0;32m--> 841\u001B[0m \u001B[39mraise\u001B[39;00m TraitError(e)\n",
      "\u001B[0;31mTraitError\u001B[0m: The 'value' trait of an Image instance expected a memory view object, not the str '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'."
     ]
    }
   ],
   "source": [
    "import matplotlib.pyplot as plt\n",
    "from matplotlib.backends.backend_agg import FigureCanvasAgg as FigureCanvas\n",
    "from PIL import Image\n",
    "import io\n",
    "import ipywidgets as widgets\n",
    "from IPython.display import display\n",
    "import base64\n",
    "\n",
    "def render_latex_to_image_base64(latex_str):\n",
    "    \"\"\"\n",
    "    Renders LaTeX string to an image and returns a base64 encoded string.\n",
    "\n",
    "    Args:\n",
    "    latex_str (str): LaTeX string to render.\n",
    "\n",
    "    Returns:\n",
    "    str: Base64 encoded string of the rendered image.\n",
    "    \"\"\"\n",
    "    # Create a figure for rendering\n",
    "    fig = plt.figure()\n",
    "    canvas = FigureCanvas(fig)\n",
    "    ax = fig.add_subplot(111)\n",
    "\n",
    "    # Use the LaTeX string as text in the plot\n",
    "    ax.text(0.5, 0.5, f\"${latex_str}$\", fontsize=20, va='center', ha='center', color='black')\n",
    "\n",
    "    # Hide the axes\n",
    "    ax.axis('off')\n",
    "    fig.patch.set_visible(False)\n",
    "    ax.patch.set_visible(False)\n",
    "\n",
    "    # Render the figure to a PNG\n",
    "    buf = io.BytesIO()\n",
    "    fig.savefig(buf, format='png')\n",
    "    plt.close(fig)\n",
    "    buf.seek(0)\n",
    "\n",
    "    # Encode the image to base64\n",
    "    img_base64 = base64.b64encode(buf.read()).decode('utf-8')\n",
    "    \n",
    "    return img_base64\n",
    "def create_latex_button(img_base64, button_width, button_height):\n",
    "    # Create an Image widget to display the rendered LaTeX\n",
    "    image_widget = widgets.Image(\n",
    "        value=img_base64,\n",
    "        format='png',\n",
    "        width=button_width,\n",
    "        height=button_height\n",
    "    )\n",
    "\n",
    "    # Create a transparent Button widget\n",
    "    button = widgets.Button(\n",
    "        layout=widgets.Layout(width='100%', height='100%', opacity=0)\n",
    "    )\n",
    "    button.style.button_color = 'transparent'\n",
    "\n",
    "    # Function to handle button clicks\n",
    "    def on_button_click(b):\n",
    "        print(\"Button clicked!\")\n",
    "\n",
    "    button.on_click(on_button_click)\n",
    "\n",
    "    # Overlay the Button on the Image using VBox\n",
    "    overlay = widgets.VBox([image_widget, button])\n",
    "    overlay.layout = widgets.Layout(\n",
    "        width=f'{button_width}px', \n",
    "        height=f'{button_height}px', \n",
    "        align_items='center', \n",
    "        justify_content='center'\n",
    "    )\n",
    "\n",
    "    return overlay\n",
    "\n",
    "# Create the LaTeX button widget\n",
    "latex_button = create_latex_button(img_base64, 200, 100)\n",
    "display(latex_button)"
   ]
  },
  {
   "cell_type": "markdown",
   "id": "e6ebe2f356f8ca41",
   "metadata": {},
   "source": [
    "\n",
    "### 5.2 PRACTICAL EXAMPLE: HOW A STOCK SHARE EVOLVES\n",
    "\n",
    "A Stock Market analyst has observed the evolution of an electronic products firm's shares over the last few months, and concludes that this evolution can be modelled with a Markov Chain.\n",
    "\n",
    "The probability that the share goes up or down on a given day depends on what has happened on the 2 previous days:\n",
    "\n",
    "Indeed, if the share went up on 2 days (today and yesterday), the probability of it going up tomorrow is 0.9 . If it went up today but went down yesterday, the probability of it going up tomorrow is 0.6 . If it went down today but went up yesterday, the probability of it going up tomorrow is 0.5 . Finally, if it went down on the last 2 days, the probability of it going up tomorrow is 0.3 .\n",
    "\n",
    "## QUESTIONS:"
   ]
  },
  {
   "cell_type": "markdown",
   "id": "f1f70d8822433950",
   "metadata": {},
   "source": [
    "\n",
    "### What are the Markov Chain states?"
   ]
  },
  {
   "cell_type": "markdown",
   "id": "f9f4c25f68ca4f47",
   "metadata": {},
   "source": [
    "\n",
    "### What is the one-step transition probabilities matrix?"
   ]
  },
  {
   "cell_type": "markdown",
   "id": "6ce95451fcb7575b",
   "metadata": {},
   "source": [
    "\n",
    "(The next questions must be solved with the help of the CaDMGip software)\n",
    "\n",
    "- What is the probability of a share going up or down on a given day?\n",
    "- What is the probability of a share that went up yesterday and today going down the day after tomorrow?\n",
    "- The transition probabilities matrix with 2, 3,10 and 30 steps\n",
    "- The first-passage times matrix.\n",
    "\n"
   ]
  },
  {
   "cell_type": "markdown",
   "id": "4ce71fc0514c91b2",
   "metadata": {},
   "source": [
    "\n",
    "### 5.3 PROPOSED EXERCISE: WILL THE RICH BECOME RICHER, AND THE POOR BECOME POORER?\n",
    "\n",
    "During the 1992 American presidential campaign, the Democrat candidate, Bill Clinton, defending he would raise taxes for the \"rich\" and would give some relief to tax payers earning average and low salaries.\n",
    "\n",
    "One of the US Treasury's functions is to study tax proposals and to determine how they could affect the country (the economy, distribution of the population's income, and other concepts). One of the studies conducted by this Department, based on 14,351 tax payers and tax declarations between 1979 and 1988, discovered that a\n",
    "considerable number of Americans on low income would move up on the income scale, while those who were higher up on the income scale would stay where they were.\n",
    "\n",
    "The data in Table 1 are the percentages of tax payers who moved between the various levels of income at the end of the decade (adjusted by inflation). For instance, $47.3 \\%$ of tax payers who earned $\\$ 200,000$ or more at the beginning of the decade remained in this category at the end of this period; the income of $38.6 \\%$ of tax payers went down to the next category (between $\\$ 45,000$ and $\\$ 199,000$ ); the income of $7.7 \\%$ went down and fell within the $\\$ 25,000-44,900$ range, and even $2.2 \\%$ earned the income of \"poor people, that is, less than $\\$ 7,000$.\n",
    "\n",
    "| Table 1. Shift in Income |  |  |  |  |  |  |  |\n",
    "| :---: | :---: | :---: | :---: | :---: | :---: | :---: | :---: |\n",
    "|  | Income at the end of the decade |  |  |  |  |  |  |\n",
    "| Income at the <br> beginning of <br> the decade | $\\$ 200,000$ <br> or more | $\\$ 45,000$ <br> to <br> $\\$ 199,999$ | $\\$ 25,000$ to <br> $\\$ 44,999$ | $\\$ 15,000$ to <br> $\\$ 24,999$ | $\\$ 7,000$ to <br> $\\$ 14,999$ | Less than <br> $\\$ 7,000$ |  |\n",
    "| $\\$ 200,000$ or <br> more | $47.3 \\%$ | $38.6 \\%$ | $7.7 \\%$ | $3.8 \\%$ | $0.4 \\%$ | $2.2 \\%$ |  |\n",
    "| $\\$ 45,000$ to <br> $\\$ 199,999$ | 5.3 | 59.4 | 20.3 | 9.4 | 4.4 | 1.2 |  |\n",
    "| $\\$ 25,000$ to <br> $\\$ 44,999$ | 0.6 | 34.8 | 37.5 | 14.8 | 9.3 | 3.0 |  |\n",
    "| $\\$ 15,000$ to <br> $\\$ 24,999$ | 0.4 | 14.6 | 32.3 | 33.0 | 14.0 | 5.7 |  |\n",
    "| $\\$ 7,000$ to <br> $\\$ 14,999$ | 0.3 | 10.8 | 19.5 | 29.6 | 29.0 | 10.8 |  |\n",
    "| Less than <br> $\\$ 7,000$ | 0.3 | 14.4 | 25.3 | 25.0 | 20.7 | 14.3 |  |\n",
    "\n",
    "Sarah $\\mathrm{Hu}$, a senior analyst in a non-profit institute, has been assigned a project to analyse the distribution of the US population's income, and also the effect that the various proposed taxes might have. Recently, some groups have shown an interest in stressing that in the USA, \"the rich are becoming richer and the poor are becoming poorer\". Ms. Hu has been commissioned to determine whether she can shed some light on this matter with the results of the US Treasury Study. She feels particularly intrigued by the similarity between Table 1 and some Markov Processes that she studied when she was at University.\n",
    "\n",
    "Ms. Hu has estimated that, currently, $1 \\%$ of the US population earns more than $\\$ 200,000$; $19 \\%$ earn between $\\$ 45,000$ and $\\$ 199,000$; the income of $20 \\%$ falls between $\\$ 25,000$ and $\\$ 44,999$; the earnings of $20 \\%$ fall within the $\\$ 15,000-24,999$ range; another $20 \\%$ earn somewhere between $\\$ 7,000$ and $\\$ 14,999$; finally, the income of $20 \\%$ is below $\\$ 7,000$.\n",
    "\n",
    "## QUESTIONS:\n",
    "\n",
    "1. What are the Markov Chain states?\n",
    "2. Based on the data in Table 1, what will the long-term income distribution be?\n",
    "3. What percentage of the population who earn less than $\\$ 7,000$ will earn more than $\\$ 200,000$ after 20 years? What is the percentage for $\\$ 100,000$ ?\n",
    "4. What is the expected number of years that the tax payers who earn under $\\$ 7,000$ will earn more than $\\$ 200,000$ ? And $\\$ 100,000$ ?\n",
    "5. How has the income distribution changed in relation to the initial income distribution?\n",
    "6. Using the CADMGIP tool to help you, respond to the question that the problem considers; will the rich become richer, and the poor become poorer?\n"
   ]
  },
  {
   "cell_type": "markdown",
   "id": "243e5980176cc24",
   "metadata": {},
   "source": [
    "\n",
    "### 5.4 PROPOSED PROBLEM.\n",
    "\n",
    "At the beginning of each year, my car can be in a good, regular or bad state. There is a $90 \\%$ probability of a good car still being good at the beginning of the next year, a $5 \\%$ one of it being in a regular state, and a $5 \\%$ one of it being in a bad state. There is s 70\\% probability that a car in a regular state will still be regular at the beginning of the next year, and a $30 \\%$ one that it will be in a bad state. It costs 12,000 to buy a good car, 5,000 euros to buy a regular car (5000 euros is also the price to sell it), but a bad car has no sale value and must be immediately replaced with a good car. The cost to maintain a car in a good state is 1,000 euros a year, and 2,000 euros a year for a car in a regular state. Let's assume that the cost to run a car per year depends on the type of car the driver has at the beginning of the year..\n",
    "\n",
    "Let's assume that a car in a bad state only happens at the end of a year, and then (at the beginning of the next year) the car in a bad state \"must be replaced immediately\". Should I replace my car as soon as it is in a regular state, or should I wait until it is in a bad state? To solve this matter:\n",
    "\n",
    "a) Define the Markov chains for the three states (Good, Regular and Bad at the beginning of the year) for all the replacement policies (Policy A: Replace when the car is in a bad state; Policy B: Replace when the car is in a regular state).\n",
    "\n",
    "b) Obtain the steady-state probabilities.\n",
    "\n",
    "c) Determine the mean cost per year for each replacement policy.\n",
    "\n",
    "d) What replacement policy would you recommend?\n"
   ]
  },
  {
   "cell_type": "markdown",
   "id": "732af7f2f6502396",
   "metadata": {},
   "source": [
    "\n",
    "\n",
    "### 5.5 PROPOSED EXERCISE. REPAIRING RIVETING MACHINES\n",
    "\n",
    "On a daily basis, a maintenance technician of a given firm checks adjustments on an automatic machine that produces rivets for the air-sea industry, among other tasks.\n",
    "\n",
    "By checking a certain number of rivets, he knows that it is not necessary to adjust the machine (A), it requires slight adjustment (B), some adjustment (C) or considerable adjustment (D).\n",
    "\n",
    "The technician has verified that if the machine is in state A, there is an $80 \\%$ probability that it will remain in this state until the next day, and a $20 \\%$ probability that it will enter state $B$.\n",
    "\n",
    "If the machine is in state $B$, there is a $70 \\%$ probability that it will remain in this state until the next day, and a $5 \\%$ probability that it will require considerable adjustment.\n",
    "\n",
    "If the machine is in state $\\mathrm{C}$, there is a $50 \\%$ probability that it will require considerable adjustment, and it is quite certain that its state will not improve.\n",
    "\n",
    "If the machine requires considerable adjustment, it will remain in this state permanently.\n",
    "\n",
    "However, the technician's job does not consist in stopping and observing the machine; instead, if the machine is found to be in state $D$, it must be adjusted. Nevertheless, the technician is not clear if when the machine is in any of the other states what interests the firm more from an economic perspective.\n",
    "\n",
    "This is because a complete adjustment costs 20,000 m.u. If the machine is in state A and begins to work at the beginning of the day, it will not produce any extra cost through loss of quality. If the technician adjusts it in state $B$, the cost for the firm is 5,000 m.u. that day, and it is 8,000 m.u. if the machine is in state C.\n",
    "\n",
    "The maintenance technician needs to economically evaluate if it is less costly to also adjust the machine completely when it is in state C.\n",
    "\n",
    "a) Model the problem with Markov Chains (one per maintenance policy) $(40 \\%)$\n",
    "\n",
    "b) Which policy is less costly? (40\\%)\n",
    "\n",
    "c) What would the adjustment cost be so that the answer to question b) would have been the opposite? $(10 \\%)$\n",
    "\n",
    "d) With the original maintenance policy, what is the expected firstpassage time from state $D$ to state $A$ ? What is the recurrence time of state $D$ ? (10\\%)\n"
   ]
  },
  {
   "cell_type": "code",
   "execution_count": null,
   "id": "1d2fcceb",
   "metadata": {},
   "outputs": [],
   "source": []
  },
  {
   "cell_type": "code",
   "execution_count": null,
   "id": "91501486",
   "metadata": {},
   "outputs": [],
   "source": []
  },
  {
   "cell_type": "code",
   "execution_count": null,
   "id": "d2f72d94",
   "metadata": {},
   "outputs": [],
   "source": []
  },
  {
   "cell_type": "code",
   "execution_count": null,
   "metadata": {},
   "outputs": [],
   "source": []
  }
 ],
 "metadata": {
  "kernelspec": {
   "display_name": "Python 3 (ipykernel)",
   "language": "python",
   "name": "python3"
  },
  "language_info": {
   "codemirror_mode": {
    "name": "ipython",
    "version": 3
   },
   "file_extension": ".py",
   "mimetype": "text/x-python",
   "name": "python",
   "nbconvert_exporter": "python",
   "pygments_lexer": "ipython3",
   "version": "3.11.5"
  }
 },
 "nbformat": 4,
 "nbformat_minor": 5
}
