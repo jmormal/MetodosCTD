{
 "cells": [
  {
   "cell_type": "markdown",
   "metadata": {},
   "source": [
    "# PRACTICAL Lesson  5 \n",
    "\n",
    "##MARKOV CHAINS\n",
    "\n",
    "\n",
    "## CONTENT\n",
    "\n",
    "5.1. INTRODUCTION\n",
    "\n",
    "5.2. PRACTICAL EXAMPLE. HOW A STOCK SHARE EVOLVES\n",
    "\n",
    "5.3. PROPOSED EXERCISE: WILL THE RICH BECOME RICHER AND THE POOR BECOME POORER?\n",
    "\n",
    "5.4. PROPOSED PROBLEM. SEPTEMBER 2002 EXAMINATION\n",
    "\n",
    "5.5. PROPOSED EXERCISES. REPAIRING RIVETING MACHINES\n"
   ],
   "id": "c20d62700ce47505"
  },
  {
   "cell_type": "code",
   "execution_count": 1,
   "metadata": {
    "ExecuteTime": {
     "end_time": "2024-01-18T18:25:10.260456607Z",
     "start_time": "2024-01-18T18:25:02.173764916Z"
    }
   },
   "outputs": [
    {
     "name": "stdout",
     "output_type": "stream",
     "text": [
      "Requirement already satisfied: networkx in /home/jj/anaconda3/lib/python3.9/site-packages (2.8.4)\r\n",
      "Requirement already satisfied: matplotlib in /home/jj/anaconda3/lib/python3.9/site-packages (3.5.2)\r\n",
      "Requirement already satisfied: numpy>=1.17 in /home/jj/anaconda3/lib/python3.9/site-packages (from matplotlib) (1.21.5)\r\n",
      "Requirement already satisfied: pyparsing>=2.2.1 in /home/jj/anaconda3/lib/python3.9/site-packages (from matplotlib) (3.0.9)\r\n",
      "Requirement already satisfied: fonttools>=4.22.0 in /home/jj/anaconda3/lib/python3.9/site-packages (from matplotlib) (4.25.0)\r\n",
      "Requirement already satisfied: python-dateutil>=2.7 in /home/jj/anaconda3/lib/python3.9/site-packages (from matplotlib) (2.8.2)\r\n",
      "Requirement already satisfied: kiwisolver>=1.0.1 in /home/jj/anaconda3/lib/python3.9/site-packages (from matplotlib) (1.4.2)\r\n",
      "Requirement already satisfied: packaging>=20.0 in /home/jj/anaconda3/lib/python3.9/site-packages (from matplotlib) (21.3)\r\n",
      "Requirement already satisfied: cycler>=0.10 in /home/jj/anaconda3/lib/python3.9/site-packages (from matplotlib) (0.11.0)\r\n",
      "Requirement already satisfied: pillow>=6.2.0 in /home/jj/anaconda3/lib/python3.9/site-packages (from matplotlib) (9.2.0)\r\n",
      "Requirement already satisfied: six>=1.5 in /home/jj/anaconda3/lib/python3.9/site-packages (from python-dateutil>=2.7->matplotlib) (1.16.0)\r\n",
      "Requirement already satisfied: numpy in /home/jj/anaconda3/lib/python3.9/site-packages (1.21.5)\r\n"
     ]
    }
   ],
   "source": [
    "!pip install networkx\n",
    "!pip install matplotlib\n",
    "!pip install numpy"
   ],
   "id": "288545b84e1946a"
  },
  {
   "cell_type": "code",
   "execution_count": 8,
   "metadata": {
    "ExecuteTime": {
     "end_time": "2024-01-18T18:30:23.207229655Z",
     "start_time": "2024-01-18T18:30:23.171603741Z"
    }
   },
   "outputs": [],
   "source": [
    "import numpy as np\n",
    "import matplotlib.pyplot as plt \n",
    "# Import the MarkovChain class from markovchain.py\n",
    "from markovchain import MarkovChain as drwMarkovChain\n",
    "P = np.array([[0.8, 0.2], [0.1, 0.9]]) # Transition matrix\n"
   ],
   "id": "ebf9b2dd1f012041"
  },
  {
   "cell_type": "code",
   "execution_count": 9,
   "metadata": {
    "ExecuteTime": {
     "end_time": "2024-01-18T18:30:23.968477567Z",
     "start_time": "2024-01-18T18:30:23.963245239Z"
    }
   },
   "outputs": [],
   "source": [
    "import numpy as np\n",
    "import matplotlib.patches as mpatches\n",
    "from matplotlib.collections import PatchCollection\n",
    "import matplotlib.pyplot as plt\n",
    "\n",
    "# module from this repository\n",
    "from node import Node"
   ],
   "id": "1a198b48f05c4839"
  },
  {
   "cell_type": "code",
   "execution_count": 25,
   "metadata": {
    "ExecuteTime": {
     "end_time": "2024-01-18T19:03:55.295018715Z",
     "start_time": "2024-01-18T19:03:55.246836910Z"
    }
   },
   "outputs": [],
   "source": [
    "import networkx as nx\n",
    "import matplotlib.pyplot as plt\n",
    "import numpy as np\n",
    "\n",
    "class MarkovChain():\n",
    "    def __init__(self, MC, names) -> None:\n",
    "        self.MC = np.array(MC)\n",
    "        self.names = names\n",
    "\n",
    "    def get_graph(self):\n",
    "        mc = drwMarkovChain(self.MC, self.names)\n",
    "        mc.draw()\n",
    "    \n",
    "    def get_transition_matrix(self):\n",
    "        return self.MC\n",
    "    \n",
    "    def get_trasnition_matrix_n_steps(self, n):\n",
    "        return np.linalg.matrix_power(self.MC, n)\n",
    "    \n",
    "    def get_first_passage_times(self):\n",
    "        return np.linalg.inv(np.identity(len(self.MC)) - self.MC)\n",
    "    \n",
    "    def get_steady_state(self): \n",
    "        # Find the eigenvalues and eigenvectors of P-1\n",
    "        eigvals, eigvecs = np.linalg.eig(self.MC.T)\n",
    "        \n",
    "        # normalize the eigen values\n",
    "        \n",
    "        \n",
    "        \n",
    "        return x\n",
    "        \n",
    "\n",
    "    \n",
    "    \n",
    "    \n",
    "\n"
   ],
   "id": "52a2e991ce1965db"
  },
  {
   "cell_type": "markdown",
   "metadata": {},
   "source": [
    "\n",
    "### 5.1 INTRODUCTION\n",
    "\n",
    "In decision-making problems, the need to make decisions based on phenomena with associated uncertainty frequently arises.\n",
    "\n",
    "A stochastic process is defined as a series of aleatory variables $\\{\\mathrm{Xt}\\}$, where index $t$ takes the values of a given set $T$. For example, process $X 1, X 2, X 3, \\ldots$ can represent a change made by customers in a detergent brand name.\n",
    "\n",
    "Another simple case is that in which knowledge about the state of the system in consecutive instants prior to $t$ provides certain information on the state of the system, although this information is totally contained in the last instant. A process with these characteristics is called a Markov Process. For instance, if the change in a detergent brand name made by customers in one month depends only on their choice in the previous month.\n",
    "\n",
    "A stochastic process $\\{\\mathrm{Xt}\\}$ is a Markov Chain if it has the following characteristics:\n",
    "\n",
    "1. A finite number of states.\n",
    "2. The Markovian property. This property is the equivalent to establishing that the conditional probability of any future \"event\", given any past \"event\" and the present state, is independent of the past event and that it depends only on the current process state.\n",
    "3. Stationary transition probabilities. Having stationary transition probabilities means that the transition probabilities do not change over time.\n",
    "4. A series of initial probabilities.\n",
    "\n",
    "If the transition probabilities (in the probabilities example of customers changing from one detergent brand name (state) to another) continue to be constant with time, the Markov Process is called a Markov Chain.\n",
    "\n",
    "An example of a Markov Chain: let's consider the following model for the a share value. At the end of a given day, the price is recorded. If the share goes up, the probability of it going up tomorrow is 0.7 . If the share goes down, the probability of it going up tomorrow is only 0.5 . This is a Markov Chain where state $0(\\mathrm{e} 0)$ represents the share price going up and state 1 (e1) represents it going down. The transition Matrix is given by:\n",
    "\n",
    "| States | E0=S | E1=B |\n",
    "| :---: | :---: | :---: |\n",
    "| E0=S | 0.70 | 0.30 |\n",
    "| E1=B | 0.50 | 0.50 |"
   ],
   "id": "f48e4ad5ee167bde"
  },
  {
   "cell_type": "code",
   "execution_count": 26,
   "metadata": {
    "ExecuteTime": {
     "end_time": "2024-01-18T19:03:55.694066990Z",
     "start_time": "2024-01-18T19:03:55.638500613Z"
    }
   },
   "outputs": [
    {
     "data": {
      "text/plain": "<Figure size 600x600 with 1 Axes>",
      "image/png": "[encoded data removed]"
     },
     "metadata": {},
     "output_type": "display_data"
    },
    {
     "name": "stdout",
     "output_type": "stream",
     "text": [
      "[[-0.3  0.5]\n",
      " [ 0.3 -0.5]\n",
      " [ 1.   1. ]] [[0.]\n",
      " [0.]\n",
      " [1.]]\n"
     ]
    },
    {
     "ename": "LinAlgError",
     "evalue": "Last 2 dimensions of the array must be square",
     "output_type": "error",
     "traceback": [
      "\u001B[0;31m---------------------------------------------------------------------------\u001B[0m",
      "\u001B[0;31mLinAlgError\u001B[0m                               Traceback (most recent call last)",
      "\u001B[0;32m/tmp/ipykernel_25774/1191480700.py\u001B[0m in \u001B[0;36m<module>\u001B[0;34m\u001B[0m\n\u001B[1;32m      8\u001B[0m \u001B[0;31m# Draw the Markov chain\u001B[0m\u001B[0;34m\u001B[0m\u001B[0;34m\u001B[0m\u001B[0m\n\u001B[1;32m      9\u001B[0m \u001B[0mmc\u001B[0m\u001B[0;34m.\u001B[0m\u001B[0mget_graph\u001B[0m\u001B[0;34m(\u001B[0m\u001B[0;34m)\u001B[0m\u001B[0;34m\u001B[0m\u001B[0;34m\u001B[0m\u001B[0m\n\u001B[0;32m---> 10\u001B[0;31m \u001B[0mmc\u001B[0m\u001B[0;34m.\u001B[0m\u001B[0mget_steady_state\u001B[0m\u001B[0;34m(\u001B[0m\u001B[0;34m)\u001B[0m\u001B[0;34m\u001B[0m\u001B[0;34m\u001B[0m\u001B[0m\n\u001B[0m",
      "\u001B[0;32m/tmp/ipykernel_25774/1310081730.py\u001B[0m in \u001B[0;36mget_steady_state\u001B[0;34m(self)\u001B[0m\n\u001B[1;32m     31\u001B[0m         \u001B[0mprint\u001B[0m\u001B[0;34m(\u001B[0m\u001B[0mA\u001B[0m \u001B[0;34m,\u001B[0m \u001B[0mb\u001B[0m\u001B[0;34m)\u001B[0m\u001B[0;34m\u001B[0m\u001B[0;34m\u001B[0m\u001B[0m\n\u001B[1;32m     32\u001B[0m         \u001B[0;31m# Solve the linear system\u001B[0m\u001B[0;34m\u001B[0m\u001B[0;34m\u001B[0m\u001B[0m\n\u001B[0;32m---> 33\u001B[0;31m         \u001B[0mx\u001B[0m \u001B[0;34m=\u001B[0m \u001B[0mnp\u001B[0m\u001B[0;34m.\u001B[0m\u001B[0mlinalg\u001B[0m\u001B[0;34m.\u001B[0m\u001B[0msolve\u001B[0m\u001B[0;34m(\u001B[0m\u001B[0mA\u001B[0m\u001B[0;34m,\u001B[0m \u001B[0mb\u001B[0m\u001B[0;34m)\u001B[0m\u001B[0;34m\u001B[0m\u001B[0;34m\u001B[0m\u001B[0m\n\u001B[0m\u001B[1;32m     34\u001B[0m \u001B[0;34m\u001B[0m\u001B[0m\n\u001B[1;32m     35\u001B[0m         \u001B[0;32mreturn\u001B[0m \u001B[0mx\u001B[0m\u001B[0;34m\u001B[0m\u001B[0;34m\u001B[0m\u001B[0m\n",
      "\u001B[0;32m<__array_function__ internals>\u001B[0m in \u001B[0;36msolve\u001B[0;34m(*args, **kwargs)\u001B[0m\n",
      "\u001B[0;32m~/anaconda3/lib/python3.9/site-packages/numpy/linalg/linalg.py\u001B[0m in \u001B[0;36msolve\u001B[0;34m(a, b)\u001B[0m\n\u001B[1;32m    378\u001B[0m     \u001B[0ma\u001B[0m\u001B[0;34m,\u001B[0m \u001B[0m_\u001B[0m \u001B[0;34m=\u001B[0m \u001B[0m_makearray\u001B[0m\u001B[0;34m(\u001B[0m\u001B[0ma\u001B[0m\u001B[0;34m)\u001B[0m\u001B[0;34m\u001B[0m\u001B[0;34m\u001B[0m\u001B[0m\n\u001B[1;32m    379\u001B[0m     \u001B[0m_assert_stacked_2d\u001B[0m\u001B[0;34m(\u001B[0m\u001B[0ma\u001B[0m\u001B[0;34m)\u001B[0m\u001B[0;34m\u001B[0m\u001B[0;34m\u001B[0m\u001B[0m\n\u001B[0;32m--> 380\u001B[0;31m     \u001B[0m_assert_stacked_square\u001B[0m\u001B[0;34m(\u001B[0m\u001B[0ma\u001B[0m\u001B[0;34m)\u001B[0m\u001B[0;34m\u001B[0m\u001B[0;34m\u001B[0m\u001B[0m\n\u001B[0m\u001B[1;32m    381\u001B[0m     \u001B[0mb\u001B[0m\u001B[0;34m,\u001B[0m \u001B[0mwrap\u001B[0m \u001B[0;34m=\u001B[0m \u001B[0m_makearray\u001B[0m\u001B[0;34m(\u001B[0m\u001B[0mb\u001B[0m\u001B[0;34m)\u001B[0m\u001B[0;34m\u001B[0m\u001B[0;34m\u001B[0m\u001B[0m\n\u001B[1;32m    382\u001B[0m     \u001B[0mt\u001B[0m\u001B[0;34m,\u001B[0m \u001B[0mresult_t\u001B[0m \u001B[0;34m=\u001B[0m \u001B[0m_commonType\u001B[0m\u001B[0;34m(\u001B[0m\u001B[0ma\u001B[0m\u001B[0;34m,\u001B[0m \u001B[0mb\u001B[0m\u001B[0;34m)\u001B[0m\u001B[0;34m\u001B[0m\u001B[0;34m\u001B[0m\u001B[0m\n",
      "\u001B[0;32m~/anaconda3/lib/python3.9/site-packages/numpy/linalg/linalg.py\u001B[0m in \u001B[0;36m_assert_stacked_square\u001B[0;34m(*arrays)\u001B[0m\n\u001B[1;32m    201\u001B[0m         \u001B[0mm\u001B[0m\u001B[0;34m,\u001B[0m \u001B[0mn\u001B[0m \u001B[0;34m=\u001B[0m \u001B[0ma\u001B[0m\u001B[0;34m.\u001B[0m\u001B[0mshape\u001B[0m\u001B[0;34m[\u001B[0m\u001B[0;34m-\u001B[0m\u001B[0;36m2\u001B[0m\u001B[0;34m:\u001B[0m\u001B[0;34m]\u001B[0m\u001B[0;34m\u001B[0m\u001B[0;34m\u001B[0m\u001B[0m\n\u001B[1;32m    202\u001B[0m         \u001B[0;32mif\u001B[0m \u001B[0mm\u001B[0m \u001B[0;34m!=\u001B[0m \u001B[0mn\u001B[0m\u001B[0;34m:\u001B[0m\u001B[0;34m\u001B[0m\u001B[0;34m\u001B[0m\u001B[0m\n\u001B[0;32m--> 203\u001B[0;31m             \u001B[0;32mraise\u001B[0m \u001B[0mLinAlgError\u001B[0m\u001B[0;34m(\u001B[0m\u001B[0;34m'Last 2 dimensions of the array must be square'\u001B[0m\u001B[0;34m)\u001B[0m\u001B[0;34m\u001B[0m\u001B[0;34m\u001B[0m\u001B[0m\n\u001B[0m\u001B[1;32m    204\u001B[0m \u001B[0;34m\u001B[0m\u001B[0m\n\u001B[1;32m    205\u001B[0m \u001B[0;32mdef\u001B[0m \u001B[0m_assert_finite\u001B[0m\u001B[0;34m(\u001B[0m\u001B[0;34m*\u001B[0m\u001B[0marrays\u001B[0m\u001B[0;34m)\u001B[0m\u001B[0;34m:\u001B[0m\u001B[0;34m\u001B[0m\u001B[0;34m\u001B[0m\u001B[0m\n",
      "\u001B[0;31mLinAlgError\u001B[0m: Last 2 dimensions of the array must be square"
     ]
    }
   ],
   "source": [
    "\n",
    "# Define the states and transition probabilities\n",
    "states = ['S', 'B']\n",
    "transition_probabilities = [[0.70, 0.30], [0.50, 0.50]]\n",
    "\n",
    "# Create the Markov chain   \n",
    "mc = MarkovChain(transition_probabilities, states)\n",
    "\n",
    "# Draw the Markov chain\n",
    "mc.get_graph()\n",
    "mc.get_steady_state()"
   ],
   "id": "6ae0eac8813ee874"
  },
  {
   "cell_type": "markdown",
   "metadata": {
    "collapsed": false
   },
   "source": [
    "\n",
    "### 5.2 PRACTICAL EXAMPLE: HOW A STOCK SHARE EVOLVES\n",
    "\n",
    "A Stock Market analyst has observed the evolution of an electronic products firm's shares over the last few months, and concludes that this evolution can be modelled with a Markov Chain.\n",
    "\n",
    "The probability that the share goes up or down on a given day depends on what has happened on the 2 previous days:\n",
    "\n",
    "Indeed, if the share went up on 2 days (today and yesterday), the probability of it going up tomorrow is 0.9 . If it went up today but went down yesterday, the probability of it going up tomorrow is 0.6 . If it went down today but went up yesterday, the probability of it going up tomorrow is 0.5 . Finally, if it went down on the last 2 days, the probability of it going up tomorrow is 0.3 .\n",
    "\n",
    "## QUESTIONS:"
   ],
   "id": "e6ebe2f356f8ca41"
  },
  {
   "cell_type": "markdown",
   "source": [
    "\n",
    "### What are the Markov Chain states?"
   ],
   "metadata": {
    "collapsed": false
   },
   "id": "f1f70d8822433950"
  },
  {
   "cell_type": "markdown",
   "source": [
    "\n",
    "### What is the one-step transition probabilities matrix?"
   ],
   "metadata": {
    "collapsed": false
   },
   "id": "f9f4c25f68ca4f47"
  },
  {
   "cell_type": "markdown",
   "source": [
    "\n",
    "(The next questions must be solved with the help of the CaDMGip software)\n",
    "\n",
    "- What is the probability of a share going up or down on a given day?\n",
    "- What is the probability of a share that went up yesterday and today going down the day after tomorrow?\n",
    "- The transition probabilities matrix with 2, 3,10 and 30 steps\n",
    "- The first-passage times matrix.\n",
    "\n"
   ],
   "metadata": {},
   "id": "6ce95451fcb7575b"
  },
  {
   "cell_type": "markdown",
   "metadata": {},
   "source": [
    "\n",
    "### 5.3 PROPOSED EXERCISE: WILL THE RICH BECOME RICHER, AND THE POOR BECOME POORER?\n",
    "\n",
    "During the 1992 American presidential campaign, the Democrat candidate, Bill Clinton, defending he would raise taxes for the \"rich\" and would give some relief to tax payers earning average and low salaries.\n",
    "\n",
    "One of the US Treasury's functions is to study tax proposals and to determine how they could affect the country (the economy, distribution of the population's income, and other concepts). One of the studies conducted by this Department, based on 14,351 tax payers and tax declarations between 1979 and 1988, discovered that a\n",
    "considerable number of Americans on low income would move up on the income scale, while those who were higher up on the income scale would stay where they were.\n",
    "\n",
    "The data in Table 1 are the percentages of tax payers who moved between the various levels of income at the end of the decade (adjusted by inflation). For instance, $47.3 \\%$ of tax payers who earned $\\$ 200,000$ or more at the beginning of the decade remained in this category at the end of this period; the income of $38.6 \\%$ of tax payers went down to the next category (between $\\$ 45,000$ and $\\$ 199,000$ ); the income of $7.7 \\%$ went down and fell within the $\\$ 25,000-44,900$ range, and even $2.2 \\%$ earned the income of \"poor people, that is, less than $\\$ 7,000$.\n",
    "\n",
    "| Table 1. Shift in Income |  |  |  |  |  |  |  |\n",
    "| :---: | :---: | :---: | :---: | :---: | :---: | :---: | :---: |\n",
    "|  | Income at the end of the decade |  |  |  |  |  |  |\n",
    "| Income at the <br> beginning of <br> the decade | $\\$ 200,000$ <br> or more | $\\$ 45,000$ <br> to <br> $\\$ 199,999$ | $\\$ 25,000$ to <br> $\\$ 44,999$ | $\\$ 15,000$ to <br> $\\$ 24,999$ | $\\$ 7,000$ to <br> $\\$ 14,999$ | Less than <br> $\\$ 7,000$ |  |\n",
    "| $\\$ 200,000$ or <br> more | $47.3 \\%$ | $38.6 \\%$ | $7.7 \\%$ | $3.8 \\%$ | $0.4 \\%$ | $2.2 \\%$ |  |\n",
    "| $\\$ 45,000$ to <br> $\\$ 199,999$ | 5.3 | 59.4 | 20.3 | 9.4 | 4.4 | 1.2 |  |\n",
    "| $\\$ 25,000$ to <br> $\\$ 44,999$ | 0.6 | 34.8 | 37.5 | 14.8 | 9.3 | 3.0 |  |\n",
    "| $\\$ 15,000$ to <br> $\\$ 24,999$ | 0.4 | 14.6 | 32.3 | 33.0 | 14.0 | 5.7 |  |\n",
    "| $\\$ 7,000$ to <br> $\\$ 14,999$ | 0.3 | 10.8 | 19.5 | 29.6 | 29.0 | 10.8 |  |\n",
    "| Less than <br> $\\$ 7,000$ | 0.3 | 14.4 | 25.3 | 25.0 | 20.7 | 14.3 |  |\n",
    "\n",
    "Sarah $\\mathrm{Hu}$, a senior analyst in a non-profit institute, has been assigned a project to analyse the distribution of the US population's income, and also the effect that the various proposed taxes might have. Recently, some groups have shown an interest in stressing that in the USA, \"the rich are becoming richer and the poor are becoming poorer\". Ms. Hu has been commissioned to determine whether she can shed some light on this matter with the results of the US Treasury Study. She feels particularly intrigued by the similarity between Table 1 and some Markov Processes that she studied when she was at University.\n",
    "\n",
    "Ms. Hu has estimated that, currently, $1 \\%$ of the US population earns more than $\\$ 200,000$; $19 \\%$ earn between $\\$ 45,000$ and $\\$ 199,000$; the income of $20 \\%$ falls between $\\$ 25,000$ and $\\$ 44,999$; the earnings of $20 \\%$ fall within the $\\$ 15,000-24,999$ range; another $20 \\%$ earn somewhere between $\\$ 7,000$ and $\\$ 14,999$; finally, the income of $20 \\%$ is below $\\$ 7,000$.\n",
    "\n",
    "## QUESTIONS:\n",
    "\n",
    "1. What are the Markov Chain states?\n",
    "2. Based on the data in Table 1, what will the long-term income distribution be?\n",
    "3. What percentage of the population who earn less than $\\$ 7,000$ will earn more than $\\$ 200,000$ after 20 years? What is the percentage for $\\$ 100,000$ ?\n",
    "4. What is the expected number of years that the tax payers who earn under $\\$ 7,000$ will earn more than $\\$ 200,000$ ? And $\\$ 100,000$ ?\n",
    "5. How has the income distribution changed in relation to the initial income distribution?\n",
    "6. Using the CADMGIP tool to help you, respond to the question that the problem considers; will the rich become richer, and the poor become poorer?\n"
   ],
   "id": "4ce71fc0514c91b2"
  },
  {
   "cell_type": "markdown",
   "metadata": {},
   "source": [
    "\n",
    "### 5.4 PROPOSED PROBLEM.\n",
    "\n",
    "At the beginning of each year, my car can be in a good, regular or bad state. There is a $90 \\%$ probability of a good car still being good at the beginning of the next year, a $5 \\%$ one of it being in a regular state, and a $5 \\%$ one of it being in a bad state. There is s 70\\% probability that a car in a regular state will still be regular at the beginning of the next year, and a $30 \\%$ one that it will be in a bad state. It costs 12,000 to buy a good car, 5,000 euros to buy a regular car (5000 euros is also the price to sell it), but a bad car has no sale value and must be immediately replaced with a good car. The cost to maintain a car in a good state is 1,000 euros a year, and 2,000 euros a year for a car in a regular state. Let's assume that the cost to run a car per year depends on the type of car the driver has at the beginning of the year..\n",
    "\n",
    "Let's assume that a car in a bad state only happens at the end of a year, and then (at the beginning of the next year) the car in a bad state \"must be replaced immediately\". Should I replace my car as soon as it is in a regular state, or should I wait until it is in a bad state? To solve this matter:\n",
    "\n",
    "a) Define the Markov chains for the three states (Good, Regular and Bad at the beginning of the year) for all the replacement policies (Policy A: Replace when the car is in a bad state; Policy B: Replace when the car is in a regular state).\n",
    "\n",
    "b) Obtain the steady-state probabilities.\n",
    "\n",
    "c) Determine the mean cost per year for each replacement policy.\n",
    "\n",
    "d) What replacement policy would you recommend?\n"
   ],
   "id": "243e5980176cc24"
  },
  {
   "cell_type": "markdown",
   "metadata": {},
   "source": [
    "\n",
    "\n",
    "### 5.5 PROPOSED EXERCISE. REPAIRING RIVETING MACHINES\n",
    "\n",
    "On a daily basis, a maintenance technician of a given firm checks adjustments on an automatic machine that produces rivets for the air-sea industry, among other tasks.\n",
    "\n",
    "By checking a certain number of rivets, he knows that it is not necessary to adjust the machine (A), it requires slight adjustment (B), some adjustment (C) or considerable adjustment (D).\n",
    "\n",
    "The technician has verified that if the machine is in state A, there is an $80 \\%$ probability that it will remain in this state until the next day, and a $20 \\%$ probability that it will enter state $B$.\n",
    "\n",
    "If the machine is in state $B$, there is a $70 \\%$ probability that it will remain in this state until the next day, and a $5 \\%$ probability that it will require considerable adjustment.\n",
    "\n",
    "If the machine is in state $\\mathrm{C}$, there is a $50 \\%$ probability that it will require considerable adjustment, and it is quite certain that its state will not improve.\n",
    "\n",
    "If the machine requires considerable adjustment, it will remain in this state permanently.\n",
    "\n",
    "However, the technician's job does not consist in stopping and observing the machine; instead, if the machine is found to be in state $D$, it must be adjusted. Nevertheless, the technician is not clear if when the machine is in any of the other states what interests the firm more from an economic perspective.\n",
    "\n",
    "This is because a complete adjustment costs 20,000 m.u. If the machine is in state A and begins to work at the beginning of the day, it will not produce any extra cost through loss of quality. If the technician adjusts it in state $B$, the cost for the firm is 5,000 m.u. that day, and it is 8,000 m.u. if the machine is in state C.\n",
    "\n",
    "The maintenance technician needs to economically evaluate if it is less costly to also adjust the machine completely when it is in state C.\n",
    "\n",
    "a) Model the problem with Markov Chains (one per maintenance policy) $(40 \\%)$\n",
    "\n",
    "b) Which policy is less costly? (40\\%)\n",
    "\n",
    "c) What would the adjustment cost be so that the answer to question b) would have been the opposite? $(10 \\%)$\n",
    "\n",
    "d) With the original maintenance policy, what is the expected firstpassage time from state $D$ to state $A$ ? What is the recurrence time of state $D$ ? (10\\%)\n"
   ],
   "id": "732af7f2f6502396"
  }
 ],
 "metadata": {
  "kernelspec": {
   "display_name": "Python 3",
   "language": "python",
   "name": "python3"
  },
  "language_info": {
   "codemirror_mode": {
    "name": "ipython",
    "version": 3
   },
   "file_extension": ".py",
   "mimetype": "text/x-python",
   "name": "python",
   "nbconvert_exporter": "python",
   "pygments_lexer": "ipython3",
   "version": "3.9.13"
  }
 },
 "nbformat": 4,
 "nbformat_minor": 5
}
