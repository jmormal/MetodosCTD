{
 "cells": [
  {
   "cell_type": "markdown",
   "id": "c20d62700ce47505",
   "metadata": {},
   "source": [
    "# PRACTICAL Lesson  5 \n",
    "\n",
    "##MARKOV CHAINS\n",
    "\n",
    "\n",
    "## CONTENT\n",
    "\n",
    "5.1. INTRODUCTION\n",
    "\n",
    "5.2. PRACTICAL EXAMPLE. HOW A STOCK SHARE EVOLVES\n",
    "\n",
    "5.3. PROPOSED EXERCISE: WILL THE RICH BECOME RICHER AND THE POOR BECOME POORER?\n",
    "\n",
    "5.4. PROPOSED PROBLEM. SEPTEMBER 2002 EXAMINATION\n",
    "\n",
    "5.5. PROPOSED EXERCISES. REPAIRING RIVETING MACHINES\n"
   ]
  },
  {
   "cell_type": "code",
   "execution_count": 1,
   "id": "288545b84e1946a",
   "metadata": {
    "ExecuteTime": {
     "end_time": "2024-01-18T18:25:10.260456607Z",
     "start_time": "2024-01-18T18:25:02.173764916Z"
    },
    "pycharm": {
     "is_executing": true
    }
   },
   "outputs": [
    {
     "name": "stdout",
     "output_type": "stream",
     "text": [
      "Requirement already satisfied: networkx in /opt/conda/lib/python3.11/site-packages (3.1)\n",
      "Requirement already satisfied: matplotlib in /opt/conda/lib/python3.11/site-packages (3.7.2)\n",
      "Requirement already satisfied: contourpy>=1.0.1 in /opt/conda/lib/python3.11/site-packages (from matplotlib) (1.0.5)\n",
      "Requirement already satisfied: cycler>=0.10 in /opt/conda/lib/python3.11/site-packages (from matplotlib) (0.11.0)\n",
      "Requirement already satisfied: fonttools>=4.22.0 in /opt/conda/lib/python3.11/site-packages (from matplotlib) (4.25.0)\n",
      "Requirement already satisfied: kiwisolver>=1.0.1 in /opt/conda/lib/python3.11/site-packages (from matplotlib) (1.4.4)\n",
      "Requirement already satisfied: numpy>=1.20 in /opt/conda/lib/python3.11/site-packages (from matplotlib) (1.25.2)\n",
      "Requirement already satisfied: packaging>=20.0 in /opt/conda/lib/python3.11/site-packages (from matplotlib) (23.1)\n",
      "Requirement already satisfied: pillow>=6.2.0 in /opt/conda/lib/python3.11/site-packages (from matplotlib) (10.0.1)\n",
      "Requirement already satisfied: pyparsing<3.1,>=2.3.1 in /opt/conda/lib/python3.11/site-packages (from matplotlib) (3.0.9)\n",
      "Requirement already satisfied: python-dateutil>=2.7 in /opt/conda/lib/python3.11/site-packages (from matplotlib) (2.8.2)\n",
      "Requirement already satisfied: six>=1.5 in /opt/conda/lib/python3.11/site-packages (from python-dateutil>=2.7->matplotlib) (1.16.0)\n",
      "Requirement already satisfied: numpy in /opt/conda/lib/python3.11/site-packages (1.25.2)\n",
      "Requirement already satisfied: pandas in /opt/conda/lib/python3.11/site-packages (2.0.3)\n",
      "Requirement already satisfied: python-dateutil>=2.8.2 in /opt/conda/lib/python3.11/site-packages (from pandas) (2.8.2)\n",
      "Requirement already satisfied: pytz>=2020.1 in /opt/conda/lib/python3.11/site-packages (from pandas) (2023.3.post1)\n",
      "Requirement already satisfied: tzdata>=2022.1 in /opt/conda/lib/python3.11/site-packages (from pandas) (2023.3)\n",
      "Requirement already satisfied: numpy>=1.21.0 in /opt/conda/lib/python3.11/site-packages (from pandas) (1.25.2)\n",
      "Requirement already satisfied: six>=1.5 in /opt/conda/lib/python3.11/site-packages (from python-dateutil>=2.8.2->pandas) (1.16.0)\n",
      "Requirement already satisfied: ipywidgets in /opt/conda/lib/python3.11/site-packages (8.0.4)\n",
      "Requirement already satisfied: ipykernel>=4.5.1 in /opt/conda/lib/python3.11/site-packages (from ipywidgets) (6.25.0)\n",
      "Requirement already satisfied: ipython>=6.1.0 in /opt/conda/lib/python3.11/site-packages (from ipywidgets) (8.15.0)\n",
      "Requirement already satisfied: traitlets>=4.3.1 in /opt/conda/lib/python3.11/site-packages (from ipywidgets) (5.7.1)\n",
      "Requirement already satisfied: widgetsnbextension~=4.0 in /opt/conda/lib/python3.11/site-packages (from ipywidgets) (4.0.5)\n",
      "Requirement already satisfied: jupyterlab-widgets~=3.0 in /opt/conda/lib/python3.11/site-packages (from ipywidgets) (3.0.5)\n",
      "Requirement already satisfied: comm>=0.1.1 in /opt/conda/lib/python3.11/site-packages (from ipykernel>=4.5.1->ipywidgets) (0.1.2)\n",
      "Requirement already satisfied: debugpy>=1.6.5 in /opt/conda/lib/python3.11/site-packages (from ipykernel>=4.5.1->ipywidgets) (1.6.7)\n",
      "Requirement already satisfied: jupyter-client>=6.1.12 in /opt/conda/lib/python3.11/site-packages (from ipykernel>=4.5.1->ipywidgets) (7.4.9)\n",
      "Requirement already satisfied: jupyter-core!=5.0.*,>=4.12 in /opt/conda/lib/python3.11/site-packages (from ipykernel>=4.5.1->ipywidgets) (5.3.0)\n",
      "Requirement already satisfied: matplotlib-inline>=0.1 in /opt/conda/lib/python3.11/site-packages (from ipykernel>=4.5.1->ipywidgets) (0.1.6)\n",
      "Requirement already satisfied: nest-asyncio in /opt/conda/lib/python3.11/site-packages (from ipykernel>=4.5.1->ipywidgets) (1.5.6)\n",
      "Requirement already satisfied: packaging in /opt/conda/lib/python3.11/site-packages (from ipykernel>=4.5.1->ipywidgets) (23.1)\n",
      "Requirement already satisfied: psutil in /opt/conda/lib/python3.11/site-packages (from ipykernel>=4.5.1->ipywidgets) (5.9.0)\n",
      "Requirement already satisfied: pyzmq>=20 in /opt/conda/lib/python3.11/site-packages (from ipykernel>=4.5.1->ipywidgets) (25.1.2)\n",
      "Requirement already satisfied: tornado>=6.1 in /opt/conda/lib/python3.11/site-packages (from ipykernel>=4.5.1->ipywidgets) (6.3.3)\n",
      "Requirement already satisfied: backcall in /opt/conda/lib/python3.11/site-packages (from ipython>=6.1.0->ipywidgets) (0.2.0)\n",
      "Requirement already satisfied: decorator in /opt/conda/lib/python3.11/site-packages (from ipython>=6.1.0->ipywidgets) (5.1.1)\n",
      "Requirement already satisfied: jedi>=0.16 in /opt/conda/lib/python3.11/site-packages (from ipython>=6.1.0->ipywidgets) (0.18.1)\n",
      "Requirement already satisfied: pickleshare in /opt/conda/lib/python3.11/site-packages (from ipython>=6.1.0->ipywidgets) (0.7.5)\n",
      "Requirement already satisfied: prompt-toolkit!=3.0.37,<3.1.0,>=3.0.30 in /opt/conda/lib/python3.11/site-packages (from ipython>=6.1.0->ipywidgets) (3.0.36)\n",
      "Requirement already satisfied: pygments>=2.4.0 in /opt/conda/lib/python3.11/site-packages (from ipython>=6.1.0->ipywidgets) (2.15.1)\n",
      "Requirement already satisfied: stack-data in /opt/conda/lib/python3.11/site-packages (from ipython>=6.1.0->ipywidgets) (0.2.0)\n",
      "Requirement already satisfied: pexpect>4.3 in /opt/conda/lib/python3.11/site-packages (from ipython>=6.1.0->ipywidgets) (4.8.0)\n",
      "Requirement already satisfied: parso<0.9.0,>=0.8.0 in /opt/conda/lib/python3.11/site-packages (from jedi>=0.16->ipython>=6.1.0->ipywidgets) (0.8.3)\n",
      "Requirement already satisfied: entrypoints in /opt/conda/lib/python3.11/site-packages (from jupyter-client>=6.1.12->ipykernel>=4.5.1->ipywidgets) (0.4)\n",
      "Requirement already satisfied: python-dateutil>=2.8.2 in /opt/conda/lib/python3.11/site-packages (from jupyter-client>=6.1.12->ipykernel>=4.5.1->ipywidgets) (2.8.2)\n",
      "Requirement already satisfied: platformdirs>=2.5 in /opt/conda/lib/python3.11/site-packages (from jupyter-core!=5.0.*,>=4.12->ipykernel>=4.5.1->ipywidgets) (3.10.0)\n",
      "Requirement already satisfied: ptyprocess>=0.5 in /opt/conda/lib/python3.11/site-packages (from pexpect>4.3->ipython>=6.1.0->ipywidgets) (0.7.0)\n",
      "Requirement already satisfied: wcwidth in /opt/conda/lib/python3.11/site-packages (from prompt-toolkit!=3.0.37,<3.1.0,>=3.0.30->ipython>=6.1.0->ipywidgets) (0.2.5)\n",
      "Requirement already satisfied: executing in /opt/conda/lib/python3.11/site-packages (from stack-data->ipython>=6.1.0->ipywidgets) (0.8.3)\n",
      "Requirement already satisfied: asttokens in /opt/conda/lib/python3.11/site-packages (from stack-data->ipython>=6.1.0->ipywidgets) (2.0.5)\n",
      "Requirement already satisfied: pure-eval in /opt/conda/lib/python3.11/site-packages (from stack-data->ipython>=6.1.0->ipywidgets) (0.2.2)\n",
      "Requirement already satisfied: six>=1.5 in /opt/conda/lib/python3.11/site-packages (from python-dateutil>=2.8.2->jupyter-client>=6.1.12->ipykernel>=4.5.1->ipywidgets) (1.16.0)\n"
     ]
    }
   ],
   "source": [
    "!pip install networkx\n",
    "!pip install matplotlib\n",
    "!pip install numpy\n",
    "!pip install pandas\n",
    "!pip install ipywidgets"
   ]
  },
  {
   "cell_type": "markdown",
   "id": "f48e4ad5ee167bde",
   "metadata": {},
   "source": [
    "\n",
    "### 5.1 INTRODUCTION\n",
    "\n",
    "In decision-making problems, the need to make decisions based on phenomena with associated uncertainty frequently arises.\n",
    "\n",
    "A stochastic process is defined as a series of aleatory variables $\\{\\mathrm{Xt}\\}$, where index $t$ takes the values of a given set $T$. For example, process $X 1, X 2, X 3, \\ldots$ can represent a change made by customers in a detergent brand name.\n",
    "\n",
    "Another simple case is that in which knowledge about the state of the system in consecutive instants prior to $t$ provides certain information on the state of the system, although this information is totally contained in the last instant. A process with these characteristics is called a Markov Process. For instance, if the change in a detergent brand name made by customers in one month depends only on their choice in the previous month.\n",
    "\n",
    "A stochastic process $\\{\\mathrm{Xt}\\}$ is a Markov Chain if it has the following characteristics:\n",
    "\n",
    "1. A finite number of states.\n",
    "2. The Markovian property. This property is the equivalent to establishing that the conditional probability of any future \"event\", given any past \"event\" and the present state, is independent of the past event and that it depends only on the current process state.\n",
    "3. Stationary transition probabilities. Having stationary transition probabilities means that the transition probabilities do not change over time.\n",
    "4. A series of initial probabilities.\n",
    "\n",
    "If the transition probabilities (in the probabilities example of customers changing from one detergent brand name (state) to another) continue to be constant with time, the Markov Process is called a Markov Chain.\n",
    "\n",
    "An example of a Markov Chain: let's consider the following model for the a share value. At the end of a given day, the price is recorded. If the share goes up, the probability of it going up tomorrow is 0.7 . If the share goes down, the probability of it going up tomorrow is only 0.5 . This is a Markov Chain where state $0(\\mathrm{e} 0)$ represents the share price going up and state 1 (e1) represents it going down. The transition Matrix is given by:\n",
    "\n",
    "| States | E0=S | E1=B |\n",
    "| :---: | :---: | :---: |\n",
    "| E0=S | 0.70 | 0.30 |\n",
    "| E1=B | 0.50 | 0.50 |"
   ]
  },
  {
   "cell_type": "markdown",
   "id": "f94b5406",
   "metadata": {},
   "source": []
  },
  {
   "cell_type": "code",
   "execution_count": 4,
   "metadata": {},
   "outputs": [
    {
     "data": {
      "application/vnd.jupyter.widget-view+json": {
       "model_id": "f6431e5721bb4e85ba64acbc6209570f",
       "version_major": 2,
       "version_minor": 0
      },
      "text/plain": [
       "VBox(children=(Box(children=(Button(description='Classify the Markov Chain', layout=Layout(align_content='cent…"
      ]
     },
     "metadata": {},
     "output_type": "display_data"
    }
   ],
   "source": [
    "from MarkovVis import MarkovChainVisualizer as MVis\n",
    "\n",
    "m=MVis()\n",
    "m.display()"
   ]
  },
  {
   "cell_type": "markdown",
   "id": "e6ebe2f356f8ca41",
   "metadata": {},
   "source": [
    "\n",
    "### 5.2 PRACTICAL EXAMPLE: HOW A STOCK SHARE EVOLVES\n",
    "\n",
    "A Stock Market analyst has observed the evolution of an electronic products firm's shares over the last few months, and concludes that this evolution can be modelled with a Markov Chain.\n",
    "\n",
    "The probability that the share goes up or down on a given day depends on what has happened on the 2 previous days:\n",
    "\n",
    "Indeed, if the share went up on 2 days (today and yesterday), the probability of it going up tomorrow is 0.9 . If it went up today but went down yesterday, the probability of it going up tomorrow is 0.6 . If it went down today but went up yesterday, the probability of it going up tomorrow is 0.5 . Finally, if it went down on the last 2 days, the probability of it going up tomorrow is 0.3 .\n",
    "\n",
    "## QUESTIONS:"
   ]
  },
  {
   "cell_type": "code",
   "execution_count": 2,
   "metadata": {},
   "outputs": [
    {
     "data": {
      "application/vnd.jupyter.widget-view+json": {
       "model_id": "b77e1b6c857a4068976ced86f8a4a68c",
       "version_major": 2,
       "version_minor": 0
      },
      "text/plain": [
       "VBox(children=(Box(children=(Button(description='Classify the Markov Chain', layout=Layout(align_content='cent…"
      ]
     },
     "metadata": {},
     "output_type": "display_data"
    }
   ],
   "source": [
    "execfile(\"vis.py\")"
   ]
  },
  {
   "cell_type": "markdown",
   "id": "f1f70d8822433950",
   "metadata": {},
   "source": [
    "\n",
    "#### What are the Markov Chain states?"
   ]
  },
  {
   "cell_type": "markdown",
   "id": "f9f4c25f68ca4f47",
   "metadata": {},
   "source": [
    "\n",
    "#### What is the one-step transition probabilities matrix?\n",
    "|   |   |   |\n",
    "|-   |-   | -  |\n",
    "|   |   |   |"
   ]
  },
  {
   "cell_type": "markdown",
   "id": "6ce95451fcb7575b",
   "metadata": {},
   "source": [
    "\n",
    "\n",
    "\n",
    "- What is the probability of a share going up or down on a given day?\n",
    "- What is the probability of a share that went up yesterday and today going down the day after tomorrow?\n",
    "- The transition probabilities matrix with 2, 3,10 and 30 steps\n",
    "- The first-passage times matrix.\n",
    "\n"
   ]
  },
  {
   "cell_type": "markdown",
   "id": "4ce71fc0514c91b2",
   "metadata": {},
   "source": [
    "\n",
    "### 5.3 PROPOSED EXERCISE: WILL THE RICH BECOME RICHER, AND THE POOR BECOME POORER?\n",
    "\n",
    "During the 1992 American presidential campaign, the Democrat candidate, Bill Clinton, defending he would raise taxes for the \"rich\" and would give some relief to tax payers earning average and low salaries.\n",
    "\n",
    "One of the US Treasury's functions is to study tax proposals and to determine how they could affect the country (the economy, distribution of the population's income, and other concepts). One of the studies conducted by this Department, based on 14,351 tax payers and tax declarations between 1979 and 1988, discovered that a\n",
    "considerable number of Americans on low income would move up on the income scale, while those who were higher up on the income scale would stay where they were.\n",
    "\n",
    "The data in Table 1 are the percentages of tax payers who moved between the various levels of income at the end of the decade (adjusted by inflation). For instance, $47.3 \\%$ of tax payers who earned $\\$ 200,000$ or more at the beginning of the decade remained in this category at the end of this period; the income of $38.6 \\%$ of tax payers went down to the next category (between $\\$ 45,000$ and $\\$ 199,000$ ); the income of $7.7 \\%$ went down and fell within the $\\$ 25,000-44,900$ range, and even $2.2 \\%$ earned the income of \"poor people, that is, less than $\\$ 7,000$.\n",
    "\n",
    "| Table 1. Shift in Income |  |  |  |  |  |  |  |\n",
    "| :---: | :---: | :---: | :---: | :---: | :---: | :---: | :---: |\n",
    "|  | Income at the end of the decade |  |  |  |  |  |  |\n",
    "| Income at the <br> beginning of <br> the decade | $\\$ 200,000$ <br> or more | $\\$ 45,000$ <br> to <br> $\\$ 199,999$ | $\\$ 25,000$ to <br> $\\$ 44,999$ | $\\$ 15,000$ to <br> $\\$ 24,999$ | $\\$ 7,000$ to <br> $\\$ 14,999$ | Less than <br> $\\$ 7,000$ |  |\n",
    "| $\\$ 200,000$ or <br> more | $47.3 \\%$ | $38.6 \\%$ | $7.7 \\%$ | $3.8 \\%$ | $0.4 \\%$ | $2.2 \\%$ |  |\n",
    "| $\\$ 45,000$ to <br> $\\$ 199,999$ | 5.3 | 59.4 | 20.3 | 9.4 | 4.4 | 1.2 |  |\n",
    "| $\\$ 25,000$ to <br> $\\$ 44,999$ | 0.6 | 34.8 | 37.5 | 14.8 | 9.3 | 3.0 |  |\n",
    "| $\\$ 15,000$ to <br> $\\$ 24,999$ | 0.4 | 14.6 | 32.3 | 33.0 | 14.0 | 5.7 |  |\n",
    "| $\\$ 7,000$ to <br> $\\$ 14,999$ | 0.3 | 10.8 | 19.5 | 29.6 | 29.0 | 10.8 |  |\n",
    "| Less than <br> $\\$ 7,000$ | 0.3 | 14.4 | 25.3 | 25.0 | 20.7 | 14.3 |  |\n",
    "\n",
    "Sarah $\\mathrm{Hu}$, a senior analyst in a non-profit institute, has been assigned a project to analyse the distribution of the US population's income, and also the effect that the various proposed taxes might have. Recently, some groups have shown an interest in stressing that in the USA, \"the rich are becoming richer and the poor are becoming poorer\". Ms. Hu has been commissioned to determine whether she can shed some light on this matter with the results of the US Treasury Study. She feels particularly intrigued by the similarity between Table 1 and some Markov Processes that she studied when she was at University.\n",
    "\n",
    "Ms. Hu has estimated that, currently, $1 \\%$ of the US population earns more than $\\$ 200,000$; $19 \\%$ earn between $\\$ 45,000$ and $\\$ 199,000$; the income of $20 \\%$ falls between $\\$ 25,000$ and $\\$ 44,999$; the earnings of $20 \\%$ fall within the $\\$ 15,000-24,999$ range; another $20 \\%$ earn somewhere between $\\$ 7,000$ and $\\$ 14,999$; finally, the income of $20 \\%$ is below $\\$ 7,000$.\n",
    "\n",
    "## QUESTIONS:\n",
    "\n",
    "1. What are the Markov Chain states?\n",
    "2. Based on the data in Table 1, what will the long-term income distribution be?\n",
    "3. What percentage of the population who earn less than $\\$ 7,000$ will earn more than $\\$ 200,000$ after 20 years? What is the percentage for $\\$ 100,000$ ?\n",
    "4. What is the expected number of years that the tax payers who earn under $\\$ 7,000$ will earn more than $\\$ 200,000$ ? And $\\$ 100,000$ ?\n",
    "5. How has the income distribution changed in relation to the initial income distribution?\n",
    "6. Using the CADMGIP tool to help you, respond to the question that the problem considers; will the rich become richer, and the poor become poorer?\n"
   ]
  },
  {
   "cell_type": "markdown",
   "id": "243e5980176cc24",
   "metadata": {},
   "source": [
    "\n",
    "### 5.4 PROPOSED PROBLEM.\n",
    "\n",
    "At the beginning of each year, my car can be in a good, regular or bad state. There is a $90 \\%$ probability of a good car still being good at the beginning of the next year, a $5 \\%$ one of it being in a regular state, and a $5 \\%$ one of it being in a bad state. There is s 70\\% probability that a car in a regular state will still be regular at the beginning of the next year, and a $30 \\%$ one that it will be in a bad state. It costs 12,000 to buy a good car, 5,000 euros to buy a regular car (5000 euros is also the price to sell it), but a bad car has no sale value and must be immediately replaced with a good car. The cost to maintain a car in a good state is 1,000 euros a year, and 2,000 euros a year for a car in a regular state. Let's assume that the cost to run a car per year depends on the type of car the driver has at the beginning of the year..\n",
    "\n",
    "Let's assume that a car in a bad state only happens at the end of a year, and then (at the beginning of the next year) the car in a bad state \"must be replaced immediately\". Should I replace my car as soon as it is in a regular state, or should I wait until it is in a bad state? To solve this matter:\n",
    "\n",
    "a) Define the Markov chains for the three states (Good, Regular and Bad at the beginning of the year) for all the replacement policies (Policy A: Replace when the car is in a bad state; Policy B: Replace when the car is in a regular state).\n",
    "\n",
    "b) Obtain the steady-state probabilities.\n",
    "\n",
    "c) Determine the mean cost per year for each replacement policy.\n",
    "\n",
    "d) What replacement policy would you recommend?\n"
   ]
  },
  {
   "cell_type": "markdown",
   "id": "732af7f2f6502396",
   "metadata": {},
   "source": [
    "\n",
    "\n",
    "### 5.5 PROPOSED EXERCISE. REPAIRING RIVETING MACHINES\n",
    "\n",
    "On a daily basis, a maintenance technician of a given firm checks adjustments on an automatic machine that produces rivets for the air-sea industry, among other tasks.\n",
    "\n",
    "By checking a certain number of rivets, he knows that it is not necessary to adjust the machine (A), it requires slight adjustment (B), some adjustment (C) or considerable adjustment (D).\n",
    "\n",
    "The technician has verified that if the machine is in state A, there is an $80 \\%$ probability that it will remain in this state until the next day, and a $20 \\%$ probability that it will enter state $B$.\n",
    "\n",
    "If the machine is in state $B$, there is a $70 \\%$ probability that it will remain in this state until the next day, and a $5 \\%$ probability that it will require considerable adjustment.\n",
    "\n",
    "If the machine is in state $\\mathrm{C}$, there is a $50 \\%$ probability that it will require considerable adjustment, and it is quite certain that its state will not improve.\n",
    "\n",
    "If the machine requires considerable adjustment, it will remain in this state permanently.\n",
    "\n",
    "However, the technician's job does not consist in stopping and observing the machine; instead, if the machine is found to be in state $D$, it must be adjusted. Nevertheless, the technician is not clear if when the machine is in any of the other states what interests the firm more from an economic perspective.\n",
    "\n",
    "This is because a complete adjustment costs 20,000 m.u. If the machine is in state A and begins to work at the beginning of the day, it will not produce any extra cost through loss of quality. If the technician adjusts it in state $B$, the cost for the firm is 5,000 m.u. that day, and it is 8,000 m.u. if the machine is in state C.\n",
    "\n",
    "The maintenance technician needs to economically evaluate if it is less costly to also adjust the machine completely when it is in state C.\n",
    "\n",
    "a) Model the problem with Markov Chains (one per maintenance policy) $(40 \\%)$\n",
    "\n",
    "b) Which policy is less costly? (40\\%)\n",
    "\n",
    "c) What would the adjustment cost be so that the answer to question b) would have been the opposite? $(10 \\%)$\n",
    "\n",
    "d) With the original maintenance policy, what is the expected firstpassage time from state $D$ to state $A$ ? What is the recurrence time of state $D$ ? (10\\%)\n"
   ]
  },
  {
   "cell_type": "code",
   "execution_count": 3,
   "id": "1d2fcceb",
   "metadata": {},
   "outputs": [
    {
     "data": {
      "application/vnd.jupyter.widget-view+json": {
       "model_id": "a1b12e38fca7463183e85c93f3eb1f89",
       "version_major": 2,
       "version_minor": 0
      },
      "text/plain": [
       "VBox(children=(Box(children=(Button(description='Classify the Markov Chain', layout=Layout(align_content='cent…"
      ]
     },
     "metadata": {},
     "output_type": "display_data"
    }
   ],
   "source": [
    "Policy1=MVis()\n",
    "Policy1.display()"
   ]
  },
  {
   "cell_type": "code",
   "execution_count": null,
   "id": "91501486",
   "metadata": {},
   "outputs": [],
   "source": [
    "Policy1=MVis()\n",
    "Policy1.display()"
   ]
  },
  {
   "cell_type": "code",
   "execution_count": null,
   "id": "d2f72d94",
   "metadata": {},
   "outputs": [],
   "source": [
    "Policy1=MVis()\n",
    "Policy1.display()"
   ]
  },
  {
   "cell_type": "code",
   "execution_count": null,
   "metadata": {},
   "outputs": [],
   "source": [
    "Policy1=MVis()\n",
    "Policy1.display()"
   ]
  }
 ],
 "metadata": {
  "kernelspec": {
   "display_name": "Python 3 (ipykernel)",
   "language": "python",
   "name": "python3"
  },
  "language_info": {
   "codemirror_mode": {
    "name": "ipython",
    "version": 3
   },
   "file_extension": ".py",
   "mimetype": "text/x-python",
   "name": "python",
   "nbconvert_exporter": "python",
   "pygments_lexer": "ipython3",
   "version": "3.9.2"
  }
 },
 "nbformat": 4,
 "nbformat_minor": 5
}
